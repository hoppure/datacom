{
 "cells": [
  {
   "cell_type": "markdown",
   "metadata": {},
   "source": [
    "# Import"
   ]
  },
  {
   "cell_type": "code",
   "execution_count": 51,
   "metadata": {},
   "outputs": [
    {
     "name": "stdout",
     "output_type": "stream",
     "text": [
      "Using device: cuda\n"
     ]
    }
   ],
   "source": [
    "import os\n",
    "import random\n",
    "import sys\n",
    "\n",
    "# sys.path.append(\n",
    "#     os.path.dirname(os.path.dirname(os.path.abspath(__file__)))\n",
    "# )\n",
    "\n",
    "import pandas as pd\n",
    "import numpy as np\n",
    "\n",
    "from PIL import Image\n",
    "from tqdm import tqdm \n",
    "\n",
    "from sklearn.model_selection import train_test_split\n",
    "\n",
    "import torchvision.models as tv_models\n",
    "import timm\n",
    "\n",
    "import torch\n",
    "from torch.utils.data import Dataset, DataLoader, Subset\n",
    "import torchvision.transforms as transforms\n",
    "import torch.nn.functional as F\n",
    "from torch import nn, optim\n",
    "\n",
    "from sklearn.metrics import log_loss\n",
    "import unicodedata\n",
    "\n",
    "device = torch.device(\"cuda\" if torch.cuda.is_available() else \"cpu\")\n",
    "print(\"Using device:\", device)"
   ]
  },
  {
   "cell_type": "markdown",
   "metadata": {},
   "source": [
    "# Hyperparameter Setting"
   ]
  },
  {
   "cell_type": "code",
   "execution_count": 52,
   "metadata": {},
   "outputs": [],
   "source": [
    "CFG = {\n",
    "    'IMG_SIZE': 224,\n",
    "    'BATCH_SIZE': 64,\n",
    "    'EPOCHS': 20,\n",
    "    'LEARNING_RATE': 1e-4,\n",
    "    'SEED' : 42\n",
    "}"
   ]
  },
  {
   "cell_type": "markdown",
   "metadata": {},
   "source": [
    "# Fixed RandomSeed"
   ]
  },
  {
   "cell_type": "code",
   "execution_count": 53,
   "metadata": {},
   "outputs": [],
   "source": [
    "def seed_everything(seed):\n",
    "    random.seed(seed)\n",
    "    os.environ['PYTHONHASHSEED'] = str(seed)\n",
    "    np.random.seed(seed)\n",
    "    torch.manual_seed(seed)\n",
    "    torch.cuda.manual_seed(seed)\n",
    "    torch.backends.cudnn.deterministic = True\n",
    "    torch.backends.cudnn.benchmark = False\n",
    "\n",
    "seed_everything(CFG['SEED']) # Seed 고정"
   ]
  },
  {
   "cell_type": "markdown",
   "metadata": {},
   "source": [
    "# CustomDataset"
   ]
  },
  {
   "cell_type": "code",
   "execution_count": 54,
   "metadata": {},
   "outputs": [],
   "source": [
    "class CustomImageDataset(Dataset):\n",
    "    def __init__(self, root_dir, transform=None, is_test=False):\n",
    "        self.root_dir = root_dir\n",
    "        self.transform = transform\n",
    "        self.is_test = is_test\n",
    "        self.samples = []\n",
    "\n",
    "        if is_test:\n",
    "            # 테스트셋: 라벨 없이 이미지 경로만 저장\n",
    "            for fname in sorted(os.listdir(root_dir)):\n",
    "                if fname.lower().endswith(('.jpg')):\n",
    "                    img_path = os.path.join(root_dir, fname)\n",
    "                    self.samples.append((img_path,))\n",
    "        else:\n",
    "            # 학습셋: 클래스별 폴더 구조에서 라벨 추출\n",
    "            self.classes = sorted(os.listdir(root_dir))\n",
    "            self.class_to_idx = {cls_name: i for i, cls_name in enumerate(self.classes)}\n",
    "\n",
    "            for cls_name in self.classes:\n",
    "                cls_folder = os.path.join(root_dir, cls_name)\n",
    "                for fname in os.listdir(cls_folder):\n",
    "                    if fname.lower().endswith(('.jpg')):\n",
    "                        img_path = os.path.join(cls_folder, fname)\n",
    "                        label = self.class_to_idx[cls_name]\n",
    "                        self.samples.append((img_path, label))\n",
    "\n",
    "    def __len__(self):\n",
    "        return len(self.samples)\n",
    "\n",
    "    def __getitem__(self, idx):\n",
    "        if self.is_test:\n",
    "            img_path = self.samples[idx][0]\n",
    "            image = Image.open(img_path).convert('RGB')\n",
    "            if self.transform:\n",
    "                image = self.transform(image)\n",
    "            return image\n",
    "        else:\n",
    "            img_path, label = self.samples[idx]\n",
    "            image = Image.open(img_path).convert('RGB')\n",
    "            if self.transform:\n",
    "                image = self.transform(image)\n",
    "            return image, label\n"
   ]
  },
  {
   "cell_type": "markdown",
   "metadata": {},
   "source": [
    "# Data Load"
   ]
  },
  {
   "cell_type": "code",
   "execution_count": 55,
   "metadata": {},
   "outputs": [],
   "source": [
    "train_root = '../data/train'\n",
    "test_root = '../data/test'"
   ]
  },
  {
   "cell_type": "code",
   "execution_count": null,
   "metadata": {},
   "outputs": [],
   "source": [
    "train_transform = transforms.Compose([\n",
    "    transforms.Resize((CFG['IMG_SIZE'], CFG['IMG_SIZE'])),\n",
    "    transforms.ToTensor(),\n",
    "    transforms.Normalize(mean=[0.485, 0.456, 0.406],\n",
    "                         std=[0.229, 0.224, 0.225])\n",
    "])"
   ]
  },
  {
   "cell_type": "code",
   "execution_count": 56,
   "metadata": {},
   "outputs": [],
   "source": [
    "\n",
    "train_transform = transforms.Compose([\n",
    "    transforms.Resize((CFG['IMG_SIZE'], CFG['IMG_SIZE'])), # 크기 통일\n",
    "    transforms.RandomHorizontalFlip(p=0.5),      # 50% 확률로 좌우 반전\n",
    "    transforms.RandomVerticalFlip(p=0.2),        # 20% 확률로 상하 반전\n",
    "    transforms.RandomRotation(15),               # -15~+15도 내외로 회전\n",
    "    transforms.ColorJitter(\n",
    "        brightness=0.2, contrast=0.2, saturation=0.2, hue=0.1\n",
    "    ),                                           # 밝기/대비/채도/색조 랜덤 변화\n",
    "    transforms.RandomResizedCrop(224, scale=(0.8, 1.0)), # 랜덤 크롭\n",
    "    transforms.ToTensor(),                       # 텐서 변환\n",
    "    transforms.Normalize(mean=[0.485, 0.456, 0.406],\n",
    "                         std=[0.229, 0.224, 0.225])      # 정규화\n",
    "])\n",
    "\n",
    "\n",
    "val_transform = transforms.Compose([\n",
    "    transforms.Resize((CFG['IMG_SIZE'], CFG['IMG_SIZE'])),\n",
    "    transforms.ToTensor(),\n",
    "    transforms.Normalize(mean=[0.485, 0.456, 0.406],\n",
    "                         std=[0.229, 0.224, 0.225])\n",
    "])"
   ]
  },
  {
   "cell_type": "markdown",
   "metadata": {},
   "source": [
    "# 30개 데이터셋만 샘플링해서 실험"
   ]
  },
  {
   "cell_type": "code",
   "execution_count": 57,
   "metadata": {},
   "outputs": [
    {
     "name": "stdout",
     "output_type": "stream",
     "text": [
      "원본 데이터셋 크기: 33137\n",
      "선택 클래스 수: 30\n",
      "선택 샘플 수: 2474\n",
      "학습 데이터 크기: 1979, 검증 데이터 크기: 495\n"
     ]
    }
   ],
   "source": [
    "# 전체 데이터셋 로드\n",
    "full_dataset = CustomImageDataset(train_root, transform=None)\n",
    "print(f\"원본 데이터셋 크기: {len(full_dataset)}\")\n",
    "\n",
    "# 1. 30개 클래스 무작위 선택\n",
    "all_classes = full_dataset.classes\n",
    "np.random.seed(42)  # 재현성 보장\n",
    "selected_classes = np.random.choice(all_classes, size=30, replace=False)\n",
    "\n",
    "# 2. 선택된 클래스의 인덱스 추출\n",
    "selected_class_indices = [full_dataset.class_to_idx[cls] for cls in selected_classes]\n",
    "\n",
    "# 3. 선택된 클래스에 해당하는 샘플 인덱스 추출\n",
    "selected_sample_indices = [\n",
    "    i for i, (_, label) in enumerate(full_dataset.samples) \n",
    "    if label in selected_class_indices\n",
    "]\n",
    "\n",
    "# 4. 선택된 샘플의 라벨 추출 (stratified split을 위해)\n",
    "selected_labels = [full_dataset.samples[i][1] for i in selected_sample_indices]\n",
    "\n",
    "# 5. Stratified Split 수행 (80:20 비율)\n",
    "train_idx, val_idx = train_test_split(\n",
    "    selected_sample_indices,\n",
    "    test_size=0.2,\n",
    "    stratify=selected_labels,\n",
    "    random_state=42\n",
    ")\n",
    "\n",
    "# 6. 서브셋 생성 (트랜스포메이션 적용)\n",
    "train_dataset = Subset(\n",
    "    CustomImageDataset(train_root, transform=train_transform), \n",
    "    train_idx\n",
    ")\n",
    "val_dataset = Subset(\n",
    "    CustomImageDataset(train_root, transform=val_transform), \n",
    "    val_idx\n",
    ")\n",
    "\n",
    "print(f\"선택 클래스 수: {len(selected_classes)}\")\n",
    "print(f\"선택 샘플 수: {len(selected_sample_indices)}\")\n",
    "print(f\"학습 데이터 크기: {len(train_dataset)}, 검증 데이터 크기: {len(val_dataset)}\")\n",
    "\n",
    "# 7. DataLoader 생성\n",
    "train_loader = DataLoader(train_dataset, batch_size=CFG['BATCH_SIZE'], shuffle=True)\n",
    "val_loader = DataLoader(val_dataset, batch_size=CFG['BATCH_SIZE'], shuffle=False)\n"
   ]
  },
  {
   "cell_type": "markdown",
   "metadata": {},
   "source": [
    "# 원본 - 시간이 너무 오려 걸려서 위에 30개 샘플로 실험할 것"
   ]
  },
  {
   "cell_type": "code",
   "execution_count": 37,
   "metadata": {},
   "outputs": [
    {
     "name": "stdout",
     "output_type": "stream",
     "text": [
      "총 이미지 수: 33137\n",
      "train 이미지 수: 26509, valid 이미지 수: 6628\n"
     ]
    }
   ],
   "source": [
    "# 전체 데이터셋 로드\n",
    "full_dataset = CustomImageDataset(train_root, transform=None)\n",
    "print(f\"총 이미지 수: {len(full_dataset)}\")\n",
    "\n",
    "targets = [label for _, label in full_dataset.samples]\n",
    "class_names = full_dataset.classes\n",
    "\n",
    "# Stratified Split\n",
    "train_idx, val_idx = train_test_split(\n",
    "    range(len(targets)), test_size=0.2, stratify=targets, random_state=42\n",
    ")\n",
    "\n",
    "# Subset + transform 각각 적용\n",
    "train_dataset = Subset(CustomImageDataset(train_root, transform=train_transform), train_idx)\n",
    "val_dataset = Subset(CustomImageDataset(train_root, transform=val_transform), val_idx)\n",
    "print(f'train 이미지 수: {len(train_dataset)}, valid 이미지 수: {len(val_dataset)}')\n",
    "\n",
    "\n",
    "# DataLoader 정의\n",
    "train_loader = DataLoader(train_dataset, batch_size=CFG['BATCH_SIZE'], shuffle=True)\n",
    "val_loader = DataLoader(val_dataset, batch_size=CFG['BATCH_SIZE'], shuffle=False)"
   ]
  },
  {
   "cell_type": "markdown",
   "metadata": {},
   "source": [
    "# baseModel Define : resnet18"
   ]
  },
  {
   "cell_type": "code",
   "execution_count": 38,
   "metadata": {},
   "outputs": [
    {
     "name": "stderr",
     "output_type": "stream",
     "text": [
      "/opt/conda/lib/python3.10/site-packages/torchvision/models/_utils.py:208: UserWarning: The parameter 'pretrained' is deprecated since 0.13 and may be removed in the future, please use 'weights' instead.\n",
      "  warnings.warn(\n",
      "/opt/conda/lib/python3.10/site-packages/torchvision/models/_utils.py:223: UserWarning: Arguments other than a weight enum or `None` for 'weights' are deprecated since 0.13 and may be removed in the future. The current behavior is equivalent to passing `weights=ResNet18_Weights.IMAGENET1K_V1`. You can also use `weights=ResNet18_Weights.DEFAULT` to get the most up-to-date weights.\n",
      "  warnings.warn(msg)\n"
     ]
    }
   ],
   "source": [
    "class BaseModel(nn.Module):\n",
    "    def __init__(self, num_classes):\n",
    "        super(BaseModel, self).__init__()\n",
    "        self.backbone = tv_models.resnet18(pretrained=True)  # ResNet18 모델 불러오기\n",
    "        self.feature_dim = self.backbone.fc.in_features \n",
    "        self.backbone.fc = nn.Identity()  # feature extractor로만 사용\n",
    "        self.head = nn.Linear(self.feature_dim, num_classes)  # 분류기\n",
    "\n",
    "    def forward(self, x):\n",
    "        x = self.backbone(x)       \n",
    "        x = self.head(x) \n",
    "        return x\n",
    "    \n",
    "\n",
    "model = BaseModel(num_classes=len(class_names)).to(device)\n"
   ]
  },
  {
   "cell_type": "markdown",
   "metadata": {},
   "source": [
    "# base4model.py"
   ]
  },
  {
   "cell_type": "code",
   "execution_count": null,
   "metadata": {},
   "outputs": [],
   "source": [
    "class BaseModel(nn.Module):\n",
    "    def __init__(self, num_classes, backbone_name='resnet18', pretrained=True):\n",
    "        super(BaseModel, self).__init__()\n",
    "        self.backbone_name = backbone_name.lower()\n",
    "        \n",
    "        if self.backbone_name.startswith('resnet'):\n",
    "            self.backbone = getattr(tv_models, self.backbone_name)(pretrained=pretrained)\n",
    "            self.feature_dim = self.backbone.fc.in_features\n",
    "            self.backbone.fc = nn.Identity()\n",
    "            self.head = nn.Linear(self.feature_dim, num_classes)\n",
    "        \n",
    "        elif self.backbone_name.startswith('efficientnet'):\n",
    "            self.backbone = timm.create_model(self.backbone_name, pretrained=pretrained)\n",
    "            self.feature_dim = self.backbone.classifier.in_features\n",
    "            self.backbone.classifier = nn.Identity()\n",
    "            self.head = nn.Linear(self.feature_dim, num_classes)\n",
    "        \n",
    "        # DenseNet 지원 추가!\n",
    "        elif self.backbone_name.startswith('densenet'):\n",
    "            self.backbone = getattr(tv_models, self.backbone_name)(pretrained=pretrained)\n",
    "            self.feature_dim = self.backbone.classifier.in_features\n",
    "            self.backbone.classifier = nn.Identity()\n",
    "            self.head = nn.Linear(self.feature_dim, num_classes)\n",
    "        \n",
    "        else:\n",
    "            raise ValueError(f\"지원하지 않는 backbone: {backbone_name}\")\n",
    "\n",
    "    def forward(self, x):\n",
    "        features = self.backbone(x)\n",
    "        out = self.head(features)\n",
    "        return out\n",
    "    \n",
    "# 여기 모델에서 반복문으로 돌리기.\n",
    "models = [\n",
    "    'resnet18',\n",
    "    'densenet',\n",
    "    'resnet101',         # 추가 추천!\n",
    "    'efficientnet_b3',\n",
    "    'efficientnet_b4',\n",
    "    # 'densenet121',     # 보너스로 추가해도 좋음\n",
    "    # 'vit_base_patch16_224',  # 최신 트렌드 실험용\n",
    "]\n"
   ]
  },
  {
   "cell_type": "markdown",
   "metadata": {},
   "source": [
    "# Train/ Validation"
   ]
  },
  {
   "cell_type": "code",
   "execution_count": 59,
   "metadata": {},
   "outputs": [
    {
     "name": "stderr",
     "output_type": "stream",
     "text": [
      "/opt/conda/lib/python3.10/site-packages/torchvision/models/_utils.py:208: UserWarning: The parameter 'pretrained' is deprecated since 0.13 and may be removed in the future, please use 'weights' instead.\n",
      "  warnings.warn(\n",
      "/opt/conda/lib/python3.10/site-packages/torchvision/models/_utils.py:223: UserWarning: Arguments other than a weight enum or `None` for 'weights' are deprecated since 0.13 and may be removed in the future. The current behavior is equivalent to passing `weights=ResNet18_Weights.IMAGENET1K_V1`. You can also use `weights=ResNet18_Weights.DEFAULT` to get the most up-to-date weights.\n",
      "  warnings.warn(msg)\n"
     ]
    },
    {
     "name": "stdout",
     "output_type": "stream",
     "text": [
      "\n",
      "🚀 Training Model: resnet18 \n",
      "\n",
      "\n"
     ]
    },
    {
     "name": "stderr",
     "output_type": "stream",
     "text": [
      "[resnet18 Epoch 1/Train]: 100%|██████████| 31/31 [00:38<00:00,  1.26s/it]\n",
      "[resnet18 Epoch 1/Val]: 100%|██████████| 8/8 [00:06<00:00,  1.25it/s]\n",
      "/opt/conda/lib/python3.10/site-packages/sklearn/metrics/_classification.py:3001: UserWarning: The y_pred values do not sum to one. Make sure to pass probabilities.\n",
      "  warnings.warn(\n"
     ]
    },
    {
     "name": "stdout",
     "output_type": "stream",
     "text": [
      "[resnet18] Epoch 1 | Train Loss: 4.6091 | Val Loss: 3.0336 | Val LogLoss: 3.0416 | Valid Accuracy : 35.7576%\n",
      "✅ Best model saved (LogLoss: 3.0416)\n"
     ]
    },
    {
     "name": "stderr",
     "output_type": "stream",
     "text": [
      "[resnet18 Epoch 2/Train]: 100%|██████████| 31/31 [00:38<00:00,  1.26s/it]\n",
      "[resnet18 Epoch 2/Val]: 100%|██████████| 8/8 [00:06<00:00,  1.28it/s]\n",
      "/opt/conda/lib/python3.10/site-packages/sklearn/metrics/_classification.py:3001: UserWarning: The y_pred values do not sum to one. Make sure to pass probabilities.\n",
      "  warnings.warn(\n"
     ]
    },
    {
     "name": "stdout",
     "output_type": "stream",
     "text": [
      "[resnet18] Epoch 2 | Train Loss: 2.1825 | Val Loss: 1.3300 | Val LogLoss: 1.3319 | Valid Accuracy : 78.9899%\n",
      "✅ Best model saved (LogLoss: 1.3319)\n"
     ]
    },
    {
     "name": "stderr",
     "output_type": "stream",
     "text": [
      "[resnet18 Epoch 3/Train]: 100%|██████████| 31/31 [00:39<00:00,  1.26s/it]\n",
      "[resnet18 Epoch 3/Val]: 100%|██████████| 8/8 [00:06<00:00,  1.26it/s]\n",
      "/opt/conda/lib/python3.10/site-packages/sklearn/metrics/_classification.py:3001: UserWarning: The y_pred values do not sum to one. Make sure to pass probabilities.\n",
      "  warnings.warn(\n"
     ]
    },
    {
     "name": "stdout",
     "output_type": "stream",
     "text": [
      "[resnet18] Epoch 3 | Train Loss: 1.0652 | Val Loss: 0.6921 | Val LogLoss: 0.6896 | Valid Accuracy : 90.1010%\n",
      "✅ Best model saved (LogLoss: 0.6896)\n"
     ]
    },
    {
     "name": "stderr",
     "output_type": "stream",
     "text": [
      "[resnet18 Epoch 4/Train]: 100%|██████████| 31/31 [00:38<00:00,  1.25s/it]\n",
      "[resnet18 Epoch 4/Val]: 100%|██████████| 8/8 [00:06<00:00,  1.30it/s]\n",
      "/opt/conda/lib/python3.10/site-packages/sklearn/metrics/_classification.py:3001: UserWarning: The y_pred values do not sum to one. Make sure to pass probabilities.\n",
      "  warnings.warn(\n"
     ]
    },
    {
     "name": "stdout",
     "output_type": "stream",
     "text": [
      "[resnet18] Epoch 4 | Train Loss: 0.6000 | Val Loss: 0.4290 | Val LogLoss: 0.4257 | Valid Accuracy : 95.1515%\n",
      "✅ Best model saved (LogLoss: 0.4257)\n"
     ]
    },
    {
     "name": "stderr",
     "output_type": "stream",
     "text": [
      "[resnet18 Epoch 5/Train]: 100%|██████████| 31/31 [00:38<00:00,  1.25s/it]\n",
      "[resnet18 Epoch 5/Val]: 100%|██████████| 8/8 [00:06<00:00,  1.26it/s]\n",
      "/opt/conda/lib/python3.10/site-packages/sklearn/metrics/_classification.py:3001: UserWarning: The y_pred values do not sum to one. Make sure to pass probabilities.\n",
      "  warnings.warn(\n"
     ]
    },
    {
     "name": "stdout",
     "output_type": "stream",
     "text": [
      "[resnet18] Epoch 5 | Train Loss: 0.3485 | Val Loss: 0.2967 | Val LogLoss: 0.2938 | Valid Accuracy : 96.1616%\n",
      "✅ Best model saved (LogLoss: 0.2938)\n"
     ]
    },
    {
     "name": "stderr",
     "output_type": "stream",
     "text": [
      "[resnet18 Epoch 6/Train]: 100%|██████████| 31/31 [00:38<00:00,  1.25s/it]\n",
      "[resnet18 Epoch 6/Val]: 100%|██████████| 8/8 [00:06<00:00,  1.26it/s]\n",
      "/opt/conda/lib/python3.10/site-packages/sklearn/metrics/_classification.py:3001: UserWarning: The y_pred values do not sum to one. Make sure to pass probabilities.\n",
      "  warnings.warn(\n"
     ]
    },
    {
     "name": "stdout",
     "output_type": "stream",
     "text": [
      "[resnet18] Epoch 6 | Train Loss: 0.2204 | Val Loss: 0.2461 | Val LogLoss: 0.2428 | Valid Accuracy : 96.1616%\n",
      "✅ Best model saved (LogLoss: 0.2428)\n"
     ]
    },
    {
     "name": "stderr",
     "output_type": "stream",
     "text": [
      "[resnet18 Epoch 7/Train]: 100%|██████████| 31/31 [00:39<00:00,  1.27s/it]\n",
      "[resnet18 Epoch 7/Val]: 100%|██████████| 8/8 [00:06<00:00,  1.28it/s]\n",
      "/opt/conda/lib/python3.10/site-packages/sklearn/metrics/_classification.py:3001: UserWarning: The y_pred values do not sum to one. Make sure to pass probabilities.\n",
      "  warnings.warn(\n"
     ]
    },
    {
     "name": "stdout",
     "output_type": "stream",
     "text": [
      "[resnet18] Epoch 7 | Train Loss: 0.1572 | Val Loss: 0.1818 | Val LogLoss: 0.1790 | Valid Accuracy : 97.5758%\n",
      "✅ Best model saved (LogLoss: 0.1790)\n"
     ]
    },
    {
     "name": "stderr",
     "output_type": "stream",
     "text": [
      "[resnet18 Epoch 8/Train]: 100%|██████████| 31/31 [00:38<00:00,  1.24s/it]\n",
      "[resnet18 Epoch 8/Val]: 100%|██████████| 8/8 [00:06<00:00,  1.24it/s]\n",
      "/opt/conda/lib/python3.10/site-packages/sklearn/metrics/_classification.py:3001: UserWarning: The y_pred values do not sum to one. Make sure to pass probabilities.\n",
      "  warnings.warn(\n"
     ]
    },
    {
     "name": "stdout",
     "output_type": "stream",
     "text": [
      "[resnet18] Epoch 8 | Train Loss: 0.1198 | Val Loss: 0.1695 | Val LogLoss: 0.1669 | Valid Accuracy : 98.5859%\n",
      "✅ Best model saved (LogLoss: 0.1669)\n"
     ]
    },
    {
     "name": "stderr",
     "output_type": "stream",
     "text": [
      "[resnet18 Epoch 9/Train]: 100%|██████████| 31/31 [00:38<00:00,  1.25s/it]\n",
      "[resnet18 Epoch 9/Val]: 100%|██████████| 8/8 [00:06<00:00,  1.30it/s]\n",
      "/opt/conda/lib/python3.10/site-packages/sklearn/metrics/_classification.py:3001: UserWarning: The y_pred values do not sum to one. Make sure to pass probabilities.\n",
      "  warnings.warn(\n"
     ]
    },
    {
     "name": "stdout",
     "output_type": "stream",
     "text": [
      "[resnet18] Epoch 9 | Train Loss: 0.0960 | Val Loss: 0.1426 | Val LogLoss: 0.1409 | Valid Accuracy : 98.1818%\n",
      "✅ Best model saved (LogLoss: 0.1409)\n"
     ]
    },
    {
     "name": "stderr",
     "output_type": "stream",
     "text": [
      "[resnet18 Epoch 10/Train]: 100%|██████████| 31/31 [00:38<00:00,  1.26s/it]\n",
      "[resnet18 Epoch 10/Val]: 100%|██████████| 8/8 [00:06<00:00,  1.33it/s]\n",
      "/opt/conda/lib/python3.10/site-packages/sklearn/metrics/_classification.py:3001: UserWarning: The y_pred values do not sum to one. Make sure to pass probabilities.\n",
      "  warnings.warn(\n"
     ]
    },
    {
     "name": "stdout",
     "output_type": "stream",
     "text": [
      "[resnet18] Epoch 10 | Train Loss: 0.0695 | Val Loss: 0.1180 | Val LogLoss: 0.1166 | Valid Accuracy : 99.1919%\n",
      "✅ Best model saved (LogLoss: 0.1166)\n"
     ]
    },
    {
     "name": "stderr",
     "output_type": "stream",
     "text": [
      "[resnet18 Epoch 11/Train]: 100%|██████████| 31/31 [00:38<00:00,  1.25s/it]\n",
      "[resnet18 Epoch 11/Val]: 100%|██████████| 8/8 [00:06<00:00,  1.24it/s]\n",
      "/opt/conda/lib/python3.10/site-packages/sklearn/metrics/_classification.py:3001: UserWarning: The y_pred values do not sum to one. Make sure to pass probabilities.\n",
      "  warnings.warn(\n"
     ]
    },
    {
     "name": "stdout",
     "output_type": "stream",
     "text": [
      "[resnet18] Epoch 11 | Train Loss: 0.0531 | Val Loss: 0.1049 | Val LogLoss: 0.1033 | Valid Accuracy : 99.1919%\n",
      "✅ Best model saved (LogLoss: 0.1033)\n"
     ]
    },
    {
     "name": "stderr",
     "output_type": "stream",
     "text": [
      "[resnet18 Epoch 12/Train]: 100%|██████████| 31/31 [00:38<00:00,  1.25s/it]\n",
      "[resnet18 Epoch 12/Val]: 100%|██████████| 8/8 [00:06<00:00,  1.30it/s]\n",
      "/opt/conda/lib/python3.10/site-packages/sklearn/metrics/_classification.py:3001: UserWarning: The y_pred values do not sum to one. Make sure to pass probabilities.\n",
      "  warnings.warn(\n"
     ]
    },
    {
     "name": "stdout",
     "output_type": "stream",
     "text": [
      "[resnet18] Epoch 12 | Train Loss: 0.0397 | Val Loss: 0.1017 | Val LogLoss: 0.0999 | Valid Accuracy : 98.3838%\n",
      "✅ Best model saved (LogLoss: 0.0999)\n"
     ]
    },
    {
     "name": "stderr",
     "output_type": "stream",
     "text": [
      "[resnet18 Epoch 13/Train]: 100%|██████████| 31/31 [00:38<00:00,  1.25s/it]\n",
      "[resnet18 Epoch 13/Val]: 100%|██████████| 8/8 [00:06<00:00,  1.27it/s]\n",
      "/opt/conda/lib/python3.10/site-packages/sklearn/metrics/_classification.py:3001: UserWarning: The y_pred values do not sum to one. Make sure to pass probabilities.\n",
      "  warnings.warn(\n"
     ]
    },
    {
     "name": "stdout",
     "output_type": "stream",
     "text": [
      "[resnet18] Epoch 13 | Train Loss: 0.0362 | Val Loss: 0.0907 | Val LogLoss: 0.0891 | Valid Accuracy : 98.5859%\n",
      "✅ Best model saved (LogLoss: 0.0891)\n"
     ]
    },
    {
     "name": "stderr",
     "output_type": "stream",
     "text": [
      "[resnet18 Epoch 14/Train]: 100%|██████████| 31/31 [00:38<00:00,  1.25s/it]\n",
      "[resnet18 Epoch 14/Val]: 100%|██████████| 8/8 [00:06<00:00,  1.28it/s]\n",
      "/opt/conda/lib/python3.10/site-packages/sklearn/metrics/_classification.py:3001: UserWarning: The y_pred values do not sum to one. Make sure to pass probabilities.\n",
      "  warnings.warn(\n"
     ]
    },
    {
     "name": "stdout",
     "output_type": "stream",
     "text": [
      "[resnet18] Epoch 14 | Train Loss: 0.0296 | Val Loss: 0.0814 | Val LogLoss: 0.0801 | Valid Accuracy : 98.9899%\n",
      "✅ Best model saved (LogLoss: 0.0801)\n"
     ]
    },
    {
     "name": "stderr",
     "output_type": "stream",
     "text": [
      "[resnet18 Epoch 15/Train]: 100%|██████████| 31/31 [00:39<00:00,  1.27s/it]\n",
      "[resnet18 Epoch 15/Val]: 100%|██████████| 8/8 [00:06<00:00,  1.32it/s]\n",
      "/opt/conda/lib/python3.10/site-packages/sklearn/metrics/_classification.py:3001: UserWarning: The y_pred values do not sum to one. Make sure to pass probabilities.\n",
      "  warnings.warn(\n"
     ]
    },
    {
     "name": "stdout",
     "output_type": "stream",
     "text": [
      "[resnet18] Epoch 15 | Train Loss: 0.0270 | Val Loss: 0.0765 | Val LogLoss: 0.0751 | Valid Accuracy : 98.9899%\n",
      "✅ Best model saved (LogLoss: 0.0751)\n"
     ]
    },
    {
     "name": "stderr",
     "output_type": "stream",
     "text": [
      "[resnet18 Epoch 16/Train]: 100%|██████████| 31/31 [00:38<00:00,  1.26s/it]\n",
      "[resnet18 Epoch 16/Val]: 100%|██████████| 8/8 [00:06<00:00,  1.30it/s]\n",
      "/opt/conda/lib/python3.10/site-packages/sklearn/metrics/_classification.py:3001: UserWarning: The y_pred values do not sum to one. Make sure to pass probabilities.\n",
      "  warnings.warn(\n"
     ]
    },
    {
     "name": "stdout",
     "output_type": "stream",
     "text": [
      "[resnet18] Epoch 16 | Train Loss: 0.0222 | Val Loss: 0.0732 | Val LogLoss: 0.0724 | Valid Accuracy : 98.9899%\n",
      "✅ Best model saved (LogLoss: 0.0724)\n"
     ]
    },
    {
     "name": "stderr",
     "output_type": "stream",
     "text": [
      "[resnet18 Epoch 17/Train]: 100%|██████████| 31/31 [00:38<00:00,  1.26s/it]\n",
      "[resnet18 Epoch 17/Val]: 100%|██████████| 8/8 [00:06<00:00,  1.27it/s]\n",
      "/opt/conda/lib/python3.10/site-packages/sklearn/metrics/_classification.py:3001: UserWarning: The y_pred values do not sum to one. Make sure to pass probabilities.\n",
      "  warnings.warn(\n"
     ]
    },
    {
     "name": "stdout",
     "output_type": "stream",
     "text": [
      "[resnet18] Epoch 17 | Train Loss: 0.0216 | Val Loss: 0.0692 | Val LogLoss: 0.0680 | Valid Accuracy : 99.1919%\n",
      "✅ Best model saved (LogLoss: 0.0680)\n"
     ]
    },
    {
     "name": "stderr",
     "output_type": "stream",
     "text": [
      "[resnet18 Epoch 18/Train]: 100%|██████████| 31/31 [00:39<00:00,  1.27s/it]\n",
      "[resnet18 Epoch 18/Val]: 100%|██████████| 8/8 [00:06<00:00,  1.28it/s]\n",
      "/opt/conda/lib/python3.10/site-packages/sklearn/metrics/_classification.py:3001: UserWarning: The y_pred values do not sum to one. Make sure to pass probabilities.\n",
      "  warnings.warn(\n"
     ]
    },
    {
     "name": "stdout",
     "output_type": "stream",
     "text": [
      "[resnet18] Epoch 18 | Train Loss: 0.0197 | Val Loss: 0.0689 | Val LogLoss: 0.0684 | Valid Accuracy : 99.1919%\n"
     ]
    },
    {
     "name": "stderr",
     "output_type": "stream",
     "text": [
      "[resnet18 Epoch 19/Train]: 100%|██████████| 31/31 [00:38<00:00,  1.25s/it]\n",
      "[resnet18 Epoch 19/Val]: 100%|██████████| 8/8 [00:06<00:00,  1.32it/s]\n",
      "/opt/conda/lib/python3.10/site-packages/sklearn/metrics/_classification.py:3001: UserWarning: The y_pred values do not sum to one. Make sure to pass probabilities.\n",
      "  warnings.warn(\n"
     ]
    },
    {
     "name": "stdout",
     "output_type": "stream",
     "text": [
      "[resnet18] Epoch 19 | Train Loss: 0.0189 | Val Loss: 0.0693 | Val LogLoss: 0.0685 | Valid Accuracy : 98.3838%\n"
     ]
    },
    {
     "name": "stderr",
     "output_type": "stream",
     "text": [
      "[resnet18 Epoch 20/Train]: 100%|██████████| 31/31 [00:39<00:00,  1.26s/it]\n",
      "[resnet18 Epoch 20/Val]: 100%|██████████| 8/8 [00:06<00:00,  1.26it/s]\n",
      "/opt/conda/lib/python3.10/site-packages/sklearn/metrics/_classification.py:3001: UserWarning: The y_pred values do not sum to one. Make sure to pass probabilities.\n",
      "  warnings.warn(\n",
      "/opt/conda/lib/python3.10/site-packages/torchvision/models/_utils.py:208: UserWarning: The parameter 'pretrained' is deprecated since 0.13 and may be removed in the future, please use 'weights' instead.\n",
      "  warnings.warn(\n",
      "/opt/conda/lib/python3.10/site-packages/torchvision/models/_utils.py:223: UserWarning: Arguments other than a weight enum or `None` for 'weights' are deprecated since 0.13 and may be removed in the future. The current behavior is equivalent to passing `weights=DenseNet121_Weights.IMAGENET1K_V1`. You can also use `weights=DenseNet121_Weights.DEFAULT` to get the most up-to-date weights.\n",
      "  warnings.warn(msg)\n"
     ]
    },
    {
     "name": "stdout",
     "output_type": "stream",
     "text": [
      "[resnet18] Epoch 20 | Train Loss: 0.0178 | Val Loss: 0.0562 | Val LogLoss: 0.0554 | Valid Accuracy : 99.3939%\n",
      "✅ Best model saved (LogLoss: 0.0554)\n",
      "\n",
      "🚀 Training Model: densenet121 \n",
      "\n",
      "\n"
     ]
    },
    {
     "name": "stderr",
     "output_type": "stream",
     "text": [
      "[densenet121 Epoch 1/Train]: 100%|██████████| 31/31 [00:40<00:00,  1.32s/it]\n",
      "[densenet121 Epoch 1/Val]: 100%|██████████| 8/8 [00:06<00:00,  1.27it/s]\n",
      "/opt/conda/lib/python3.10/site-packages/sklearn/metrics/_classification.py:3001: UserWarning: The y_pred values do not sum to one. Make sure to pass probabilities.\n",
      "  warnings.warn(\n"
     ]
    },
    {
     "name": "stdout",
     "output_type": "stream",
     "text": [
      "[densenet121] Epoch 1 | Train Loss: 4.7227 | Val Loss: 3.6212 | Val LogLoss: 3.6222 | Valid Accuracy : 32.1212%\n",
      "✅ Best model saved (LogLoss: 3.6222)\n"
     ]
    },
    {
     "name": "stderr",
     "output_type": "stream",
     "text": [
      "[densenet121 Epoch 2/Train]: 100%|██████████| 31/31 [00:40<00:00,  1.32s/it]\n",
      "[densenet121 Epoch 2/Val]: 100%|██████████| 8/8 [00:06<00:00,  1.27it/s]\n",
      "/opt/conda/lib/python3.10/site-packages/sklearn/metrics/_classification.py:3001: UserWarning: The y_pred values do not sum to one. Make sure to pass probabilities.\n",
      "  warnings.warn(\n"
     ]
    },
    {
     "name": "stdout",
     "output_type": "stream",
     "text": [
      "[densenet121] Epoch 2 | Train Loss: 2.7276 | Val Loss: 2.0527 | Val LogLoss: 2.0521 | Valid Accuracy : 75.5556%\n",
      "✅ Best model saved (LogLoss: 2.0521)\n"
     ]
    },
    {
     "name": "stderr",
     "output_type": "stream",
     "text": [
      "[densenet121 Epoch 3/Train]: 100%|██████████| 31/31 [00:40<00:00,  1.32s/it]\n",
      "[densenet121 Epoch 3/Val]: 100%|██████████| 8/8 [00:06<00:00,  1.29it/s]\n",
      "/opt/conda/lib/python3.10/site-packages/sklearn/metrics/_classification.py:3001: UserWarning: The y_pred values do not sum to one. Make sure to pass probabilities.\n",
      "  warnings.warn(\n"
     ]
    },
    {
     "name": "stdout",
     "output_type": "stream",
     "text": [
      "[densenet121] Epoch 3 | Train Loss: 1.6584 | Val Loss: 1.2008 | Val LogLoss: 1.1996 | Valid Accuracy : 86.2626%\n",
      "✅ Best model saved (LogLoss: 1.1996)\n"
     ]
    },
    {
     "name": "stderr",
     "output_type": "stream",
     "text": [
      "[densenet121 Epoch 4/Train]: 100%|██████████| 31/31 [00:41<00:00,  1.33s/it]\n",
      "[densenet121 Epoch 4/Val]: 100%|██████████| 8/8 [00:06<00:00,  1.31it/s]\n",
      "/opt/conda/lib/python3.10/site-packages/sklearn/metrics/_classification.py:3001: UserWarning: The y_pred values do not sum to one. Make sure to pass probabilities.\n",
      "  warnings.warn(\n"
     ]
    },
    {
     "name": "stdout",
     "output_type": "stream",
     "text": [
      "[densenet121] Epoch 4 | Train Loss: 0.9778 | Val Loss: 0.7302 | Val LogLoss: 0.7280 | Valid Accuracy : 93.3333%\n",
      "✅ Best model saved (LogLoss: 0.7280)\n"
     ]
    },
    {
     "name": "stderr",
     "output_type": "stream",
     "text": [
      "[densenet121 Epoch 5/Train]: 100%|██████████| 31/31 [00:40<00:00,  1.32s/it]\n",
      "[densenet121 Epoch 5/Val]: 100%|██████████| 8/8 [00:06<00:00,  1.30it/s]\n",
      "/opt/conda/lib/python3.10/site-packages/sklearn/metrics/_classification.py:3001: UserWarning: The y_pred values do not sum to one. Make sure to pass probabilities.\n",
      "  warnings.warn(\n"
     ]
    },
    {
     "name": "stdout",
     "output_type": "stream",
     "text": [
      "[densenet121] Epoch 5 | Train Loss: 0.5822 | Val Loss: 0.4917 | Val LogLoss: 0.4894 | Valid Accuracy : 95.3535%\n",
      "✅ Best model saved (LogLoss: 0.4894)\n"
     ]
    },
    {
     "name": "stderr",
     "output_type": "stream",
     "text": [
      "[densenet121 Epoch 6/Train]: 100%|██████████| 31/31 [00:40<00:00,  1.32s/it]\n",
      "[densenet121 Epoch 6/Val]: 100%|██████████| 8/8 [00:06<00:00,  1.30it/s]\n",
      "/opt/conda/lib/python3.10/site-packages/sklearn/metrics/_classification.py:3001: UserWarning: The y_pred values do not sum to one. Make sure to pass probabilities.\n",
      "  warnings.warn(\n"
     ]
    },
    {
     "name": "stdout",
     "output_type": "stream",
     "text": [
      "[densenet121] Epoch 6 | Train Loss: 0.3484 | Val Loss: 0.3074 | Val LogLoss: 0.3059 | Valid Accuracy : 97.7778%\n",
      "✅ Best model saved (LogLoss: 0.3059)\n"
     ]
    },
    {
     "name": "stderr",
     "output_type": "stream",
     "text": [
      "[densenet121 Epoch 7/Train]: 100%|██████████| 31/31 [00:40<00:00,  1.31s/it]\n",
      "[densenet121 Epoch 7/Val]: 100%|██████████| 8/8 [00:06<00:00,  1.27it/s]\n",
      "/opt/conda/lib/python3.10/site-packages/sklearn/metrics/_classification.py:3001: UserWarning: The y_pred values do not sum to one. Make sure to pass probabilities.\n",
      "  warnings.warn(\n"
     ]
    },
    {
     "name": "stdout",
     "output_type": "stream",
     "text": [
      "[densenet121] Epoch 7 | Train Loss: 0.2330 | Val Loss: 0.2198 | Val LogLoss: 0.2195 | Valid Accuracy : 98.5859%\n",
      "✅ Best model saved (LogLoss: 0.2195)\n"
     ]
    },
    {
     "name": "stderr",
     "output_type": "stream",
     "text": [
      "[densenet121 Epoch 8/Train]: 100%|██████████| 31/31 [00:40<00:00,  1.32s/it]\n",
      "[densenet121 Epoch 8/Val]: 100%|██████████| 8/8 [00:06<00:00,  1.31it/s]\n",
      "/opt/conda/lib/python3.10/site-packages/sklearn/metrics/_classification.py:3001: UserWarning: The y_pred values do not sum to one. Make sure to pass probabilities.\n",
      "  warnings.warn(\n"
     ]
    },
    {
     "name": "stdout",
     "output_type": "stream",
     "text": [
      "[densenet121] Epoch 8 | Train Loss: 0.1516 | Val Loss: 0.1876 | Val LogLoss: 0.1866 | Valid Accuracy : 97.9798%\n",
      "✅ Best model saved (LogLoss: 0.1866)\n"
     ]
    },
    {
     "name": "stderr",
     "output_type": "stream",
     "text": [
      "[densenet121 Epoch 9/Train]: 100%|██████████| 31/31 [00:41<00:00,  1.33s/it]\n",
      "[densenet121 Epoch 9/Val]: 100%|██████████| 8/8 [00:05<00:00,  1.34it/s]\n",
      "/opt/conda/lib/python3.10/site-packages/sklearn/metrics/_classification.py:3001: UserWarning: The y_pred values do not sum to one. Make sure to pass probabilities.\n",
      "  warnings.warn(\n"
     ]
    },
    {
     "name": "stdout",
     "output_type": "stream",
     "text": [
      "[densenet121] Epoch 9 | Train Loss: 0.1154 | Val Loss: 0.1547 | Val LogLoss: 0.1540 | Valid Accuracy : 98.1818%\n",
      "✅ Best model saved (LogLoss: 0.1540)\n"
     ]
    },
    {
     "name": "stderr",
     "output_type": "stream",
     "text": [
      "[densenet121 Epoch 10/Train]: 100%|██████████| 31/31 [00:40<00:00,  1.32s/it]\n",
      "[densenet121 Epoch 10/Val]: 100%|██████████| 8/8 [00:06<00:00,  1.29it/s]\n",
      "/opt/conda/lib/python3.10/site-packages/sklearn/metrics/_classification.py:3001: UserWarning: The y_pred values do not sum to one. Make sure to pass probabilities.\n",
      "  warnings.warn(\n"
     ]
    },
    {
     "name": "stdout",
     "output_type": "stream",
     "text": [
      "[densenet121] Epoch 10 | Train Loss: 0.0829 | Val Loss: 0.1340 | Val LogLoss: 0.1336 | Valid Accuracy : 97.7778%\n",
      "✅ Best model saved (LogLoss: 0.1336)\n"
     ]
    },
    {
     "name": "stderr",
     "output_type": "stream",
     "text": [
      "[densenet121 Epoch 11/Train]: 100%|██████████| 31/31 [00:40<00:00,  1.30s/it]\n",
      "[densenet121 Epoch 11/Val]: 100%|██████████| 8/8 [00:06<00:00,  1.31it/s]\n",
      "/opt/conda/lib/python3.10/site-packages/sklearn/metrics/_classification.py:3001: UserWarning: The y_pred values do not sum to one. Make sure to pass probabilities.\n",
      "  warnings.warn(\n"
     ]
    },
    {
     "name": "stdout",
     "output_type": "stream",
     "text": [
      "[densenet121] Epoch 11 | Train Loss: 0.0644 | Val Loss: 0.1112 | Val LogLoss: 0.1108 | Valid Accuracy : 98.1818%\n",
      "✅ Best model saved (LogLoss: 0.1108)\n"
     ]
    },
    {
     "name": "stderr",
     "output_type": "stream",
     "text": [
      "[densenet121 Epoch 12/Train]: 100%|██████████| 31/31 [00:40<00:00,  1.31s/it]\n",
      "[densenet121 Epoch 12/Val]: 100%|██████████| 8/8 [00:06<00:00,  1.30it/s]\n",
      "/opt/conda/lib/python3.10/site-packages/sklearn/metrics/_classification.py:3001: UserWarning: The y_pred values do not sum to one. Make sure to pass probabilities.\n",
      "  warnings.warn(\n"
     ]
    },
    {
     "name": "stdout",
     "output_type": "stream",
     "text": [
      "[densenet121] Epoch 12 | Train Loss: 0.0598 | Val Loss: 0.0960 | Val LogLoss: 0.0960 | Valid Accuracy : 98.1818%\n",
      "✅ Best model saved (LogLoss: 0.0960)\n"
     ]
    },
    {
     "name": "stderr",
     "output_type": "stream",
     "text": [
      "[densenet121 Epoch 13/Train]: 100%|██████████| 31/31 [00:40<00:00,  1.32s/it]\n",
      "[densenet121 Epoch 13/Val]: 100%|██████████| 8/8 [00:06<00:00,  1.31it/s]\n",
      "/opt/conda/lib/python3.10/site-packages/sklearn/metrics/_classification.py:3001: UserWarning: The y_pred values do not sum to one. Make sure to pass probabilities.\n",
      "  warnings.warn(\n"
     ]
    },
    {
     "name": "stdout",
     "output_type": "stream",
     "text": [
      "[densenet121] Epoch 13 | Train Loss: 0.0435 | Val Loss: 0.0881 | Val LogLoss: 0.0877 | Valid Accuracy : 98.5859%\n",
      "✅ Best model saved (LogLoss: 0.0877)\n"
     ]
    },
    {
     "name": "stderr",
     "output_type": "stream",
     "text": [
      "[densenet121 Epoch 14/Train]: 100%|██████████| 31/31 [00:40<00:00,  1.31s/it]\n",
      "[densenet121 Epoch 14/Val]: 100%|██████████| 8/8 [00:06<00:00,  1.28it/s]\n",
      "/opt/conda/lib/python3.10/site-packages/sklearn/metrics/_classification.py:3001: UserWarning: The y_pred values do not sum to one. Make sure to pass probabilities.\n",
      "  warnings.warn(\n"
     ]
    },
    {
     "name": "stdout",
     "output_type": "stream",
     "text": [
      "[densenet121] Epoch 14 | Train Loss: 0.0441 | Val Loss: 0.0803 | Val LogLoss: 0.0800 | Valid Accuracy : 98.5859%\n",
      "✅ Best model saved (LogLoss: 0.0800)\n"
     ]
    },
    {
     "name": "stderr",
     "output_type": "stream",
     "text": [
      "[densenet121 Epoch 15/Train]: 100%|██████████| 31/31 [00:41<00:00,  1.33s/it]\n",
      "[densenet121 Epoch 15/Val]: 100%|██████████| 8/8 [00:06<00:00,  1.27it/s]\n",
      "/opt/conda/lib/python3.10/site-packages/sklearn/metrics/_classification.py:3001: UserWarning: The y_pred values do not sum to one. Make sure to pass probabilities.\n",
      "  warnings.warn(\n"
     ]
    },
    {
     "name": "stdout",
     "output_type": "stream",
     "text": [
      "[densenet121] Epoch 15 | Train Loss: 0.0320 | Val Loss: 0.0758 | Val LogLoss: 0.0758 | Valid Accuracy : 98.7879%\n",
      "✅ Best model saved (LogLoss: 0.0758)\n"
     ]
    },
    {
     "name": "stderr",
     "output_type": "stream",
     "text": [
      "[densenet121 Epoch 16/Train]: 100%|██████████| 31/31 [00:40<00:00,  1.31s/it]\n",
      "[densenet121 Epoch 16/Val]: 100%|██████████| 8/8 [00:06<00:00,  1.28it/s]\n",
      "/opt/conda/lib/python3.10/site-packages/sklearn/metrics/_classification.py:3001: UserWarning: The y_pred values do not sum to one. Make sure to pass probabilities.\n",
      "  warnings.warn(\n"
     ]
    },
    {
     "name": "stdout",
     "output_type": "stream",
     "text": [
      "[densenet121] Epoch 16 | Train Loss: 0.0262 | Val Loss: 0.0707 | Val LogLoss: 0.0704 | Valid Accuracy : 98.3838%\n",
      "✅ Best model saved (LogLoss: 0.0704)\n"
     ]
    },
    {
     "name": "stderr",
     "output_type": "stream",
     "text": [
      "[densenet121 Epoch 17/Train]: 100%|██████████| 31/31 [00:41<00:00,  1.33s/it]\n",
      "[densenet121 Epoch 17/Val]: 100%|██████████| 8/8 [00:06<00:00,  1.27it/s]\n",
      "/opt/conda/lib/python3.10/site-packages/sklearn/metrics/_classification.py:3001: UserWarning: The y_pred values do not sum to one. Make sure to pass probabilities.\n",
      "  warnings.warn(\n"
     ]
    },
    {
     "name": "stdout",
     "output_type": "stream",
     "text": [
      "[densenet121] Epoch 17 | Train Loss: 0.0227 | Val Loss: 0.0736 | Val LogLoss: 0.0727 | Valid Accuracy : 98.3838%\n"
     ]
    },
    {
     "name": "stderr",
     "output_type": "stream",
     "text": [
      "[densenet121 Epoch 18/Train]: 100%|██████████| 31/31 [00:41<00:00,  1.33s/it]\n",
      "[densenet121 Epoch 18/Val]: 100%|██████████| 8/8 [00:06<00:00,  1.27it/s]\n",
      "/opt/conda/lib/python3.10/site-packages/sklearn/metrics/_classification.py:3001: UserWarning: The y_pred values do not sum to one. Make sure to pass probabilities.\n",
      "  warnings.warn(\n"
     ]
    },
    {
     "name": "stdout",
     "output_type": "stream",
     "text": [
      "[densenet121] Epoch 18 | Train Loss: 0.0201 | Val Loss: 0.0708 | Val LogLoss: 0.0706 | Valid Accuracy : 98.1818%\n"
     ]
    },
    {
     "name": "stderr",
     "output_type": "stream",
     "text": [
      "[densenet121 Epoch 19/Train]: 100%|██████████| 31/31 [00:40<00:00,  1.32s/it]\n",
      "[densenet121 Epoch 19/Val]: 100%|██████████| 8/8 [00:06<00:00,  1.28it/s]\n",
      "/opt/conda/lib/python3.10/site-packages/sklearn/metrics/_classification.py:3001: UserWarning: The y_pred values do not sum to one. Make sure to pass probabilities.\n",
      "  warnings.warn(\n"
     ]
    },
    {
     "name": "stdout",
     "output_type": "stream",
     "text": [
      "[densenet121] Epoch 19 | Train Loss: 0.0188 | Val Loss: 0.0592 | Val LogLoss: 0.0597 | Valid Accuracy : 98.7879%\n",
      "✅ Best model saved (LogLoss: 0.0597)\n"
     ]
    },
    {
     "name": "stderr",
     "output_type": "stream",
     "text": [
      "[densenet121 Epoch 20/Train]: 100%|██████████| 31/31 [00:40<00:00,  1.32s/it]\n",
      "[densenet121 Epoch 20/Val]: 100%|██████████| 8/8 [00:06<00:00,  1.29it/s]\n",
      "/opt/conda/lib/python3.10/site-packages/sklearn/metrics/_classification.py:3001: UserWarning: The y_pred values do not sum to one. Make sure to pass probabilities.\n",
      "  warnings.warn(\n",
      "/opt/conda/lib/python3.10/site-packages/torchvision/models/_utils.py:208: UserWarning: The parameter 'pretrained' is deprecated since 0.13 and may be removed in the future, please use 'weights' instead.\n",
      "  warnings.warn(\n",
      "/opt/conda/lib/python3.10/site-packages/torchvision/models/_utils.py:223: UserWarning: Arguments other than a weight enum or `None` for 'weights' are deprecated since 0.13 and may be removed in the future. The current behavior is equivalent to passing `weights=ResNet101_Weights.IMAGENET1K_V1`. You can also use `weights=ResNet101_Weights.DEFAULT` to get the most up-to-date weights.\n",
      "  warnings.warn(msg)\n"
     ]
    },
    {
     "name": "stdout",
     "output_type": "stream",
     "text": [
      "[densenet121] Epoch 20 | Train Loss: 0.0157 | Val Loss: 0.0727 | Val LogLoss: 0.0726 | Valid Accuracy : 98.1818%\n",
      "\n",
      "🚀 Training Model: resnet101 \n",
      "\n",
      "\n"
     ]
    },
    {
     "name": "stderr",
     "output_type": "stream",
     "text": [
      "[resnet101 Epoch 1/Train]: 100%|██████████| 31/31 [00:43<00:00,  1.41s/it]\n",
      "[resnet101 Epoch 1/Val]: 100%|██████████| 8/8 [00:06<00:00,  1.26it/s]\n",
      "/opt/conda/lib/python3.10/site-packages/sklearn/metrics/_classification.py:3001: UserWarning: The y_pred values do not sum to one. Make sure to pass probabilities.\n",
      "  warnings.warn(\n"
     ]
    },
    {
     "name": "stdout",
     "output_type": "stream",
     "text": [
      "[resnet101] Epoch 1 | Train Loss: 3.7395 | Val Loss: 2.1227 | Val LogLoss: 2.1201 | Valid Accuracy : 63.6364%\n",
      "✅ Best model saved (LogLoss: 2.1201)\n"
     ]
    },
    {
     "name": "stderr",
     "output_type": "stream",
     "text": [
      "[resnet101 Epoch 2/Train]: 100%|██████████| 31/31 [00:43<00:00,  1.41s/it]\n",
      "[resnet101 Epoch 2/Val]: 100%|██████████| 8/8 [00:06<00:00,  1.27it/s]\n",
      "/opt/conda/lib/python3.10/site-packages/sklearn/metrics/_classification.py:3001: UserWarning: The y_pred values do not sum to one. Make sure to pass probabilities.\n",
      "  warnings.warn(\n"
     ]
    },
    {
     "name": "stdout",
     "output_type": "stream",
     "text": [
      "[resnet101] Epoch 2 | Train Loss: 1.1243 | Val Loss: 0.4637 | Val LogLoss: 0.4594 | Valid Accuracy : 91.9192%\n",
      "✅ Best model saved (LogLoss: 0.4594)\n"
     ]
    },
    {
     "name": "stderr",
     "output_type": "stream",
     "text": [
      "[resnet101 Epoch 3/Train]: 100%|██████████| 31/31 [00:43<00:00,  1.41s/it]\n",
      "[resnet101 Epoch 3/Val]: 100%|██████████| 8/8 [00:06<00:00,  1.24it/s]\n",
      "/opt/conda/lib/python3.10/site-packages/sklearn/metrics/_classification.py:3001: UserWarning: The y_pred values do not sum to one. Make sure to pass probabilities.\n",
      "  warnings.warn(\n"
     ]
    },
    {
     "name": "stdout",
     "output_type": "stream",
     "text": [
      "[resnet101] Epoch 3 | Train Loss: 0.2811 | Val Loss: 0.2692 | Val LogLoss: 0.2666 | Valid Accuracy : 93.5354%\n",
      "✅ Best model saved (LogLoss: 0.2666)\n"
     ]
    },
    {
     "name": "stderr",
     "output_type": "stream",
     "text": [
      "[resnet101 Epoch 4/Train]: 100%|██████████| 31/31 [00:43<00:00,  1.39s/it]\n",
      "[resnet101 Epoch 4/Val]: 100%|██████████| 8/8 [00:06<00:00,  1.28it/s]\n",
      "/opt/conda/lib/python3.10/site-packages/sklearn/metrics/_classification.py:3001: UserWarning: The y_pred values do not sum to one. Make sure to pass probabilities.\n",
      "  warnings.warn(\n"
     ]
    },
    {
     "name": "stdout",
     "output_type": "stream",
     "text": [
      "[resnet101] Epoch 4 | Train Loss: 0.1210 | Val Loss: 0.1476 | Val LogLoss: 0.1459 | Valid Accuracy : 96.7677%\n",
      "✅ Best model saved (LogLoss: 0.1459)\n"
     ]
    },
    {
     "name": "stderr",
     "output_type": "stream",
     "text": [
      "[resnet101 Epoch 5/Train]: 100%|██████████| 31/31 [00:43<00:00,  1.41s/it]\n",
      "[resnet101 Epoch 5/Val]: 100%|██████████| 8/8 [00:06<00:00,  1.26it/s]\n",
      "/opt/conda/lib/python3.10/site-packages/sklearn/metrics/_classification.py:3001: UserWarning: The y_pred values do not sum to one. Make sure to pass probabilities.\n",
      "  warnings.warn(\n"
     ]
    },
    {
     "name": "stdout",
     "output_type": "stream",
     "text": [
      "[resnet101] Epoch 5 | Train Loss: 0.0788 | Val Loss: 0.0538 | Val LogLoss: 0.0534 | Valid Accuracy : 99.1919%\n",
      "✅ Best model saved (LogLoss: 0.0534)\n"
     ]
    },
    {
     "name": "stderr",
     "output_type": "stream",
     "text": [
      "[resnet101 Epoch 6/Train]: 100%|██████████| 31/31 [00:43<00:00,  1.41s/it]\n",
      "[resnet101 Epoch 6/Val]: 100%|██████████| 8/8 [00:06<00:00,  1.24it/s]\n",
      "/opt/conda/lib/python3.10/site-packages/sklearn/metrics/_classification.py:3001: UserWarning: The y_pred values do not sum to one. Make sure to pass probabilities.\n",
      "  warnings.warn(\n"
     ]
    },
    {
     "name": "stdout",
     "output_type": "stream",
     "text": [
      "[resnet101] Epoch 6 | Train Loss: 0.0512 | Val Loss: 0.0799 | Val LogLoss: 0.0795 | Valid Accuracy : 97.3737%\n"
     ]
    },
    {
     "name": "stderr",
     "output_type": "stream",
     "text": [
      "[resnet101 Epoch 7/Train]: 100%|██████████| 31/31 [00:43<00:00,  1.40s/it]\n",
      "[resnet101 Epoch 7/Val]: 100%|██████████| 8/8 [00:06<00:00,  1.26it/s]\n",
      "/opt/conda/lib/python3.10/site-packages/sklearn/metrics/_classification.py:3001: UserWarning: The y_pred values do not sum to one. Make sure to pass probabilities.\n",
      "  warnings.warn(\n"
     ]
    },
    {
     "name": "stdout",
     "output_type": "stream",
     "text": [
      "[resnet101] Epoch 7 | Train Loss: 0.0413 | Val Loss: 0.0882 | Val LogLoss: 0.0900 | Valid Accuracy : 96.9697%\n"
     ]
    },
    {
     "name": "stderr",
     "output_type": "stream",
     "text": [
      "[resnet101 Epoch 8/Train]: 100%|██████████| 31/31 [00:43<00:00,  1.40s/it]\n",
      "[resnet101 Epoch 8/Val]: 100%|██████████| 8/8 [00:06<00:00,  1.28it/s]\n",
      "/opt/conda/lib/python3.10/site-packages/sklearn/metrics/_classification.py:3001: UserWarning: The y_pred values do not sum to one. Make sure to pass probabilities.\n",
      "  warnings.warn(\n"
     ]
    },
    {
     "name": "stdout",
     "output_type": "stream",
     "text": [
      "[resnet101] Epoch 8 | Train Loss: 0.0364 | Val Loss: 0.0762 | Val LogLoss: 0.0778 | Valid Accuracy : 97.7778%\n"
     ]
    },
    {
     "name": "stderr",
     "output_type": "stream",
     "text": [
      "[resnet101 Epoch 9/Train]: 100%|██████████| 31/31 [00:43<00:00,  1.40s/it]\n",
      "[resnet101 Epoch 9/Val]: 100%|██████████| 8/8 [00:06<00:00,  1.26it/s]\n",
      "/opt/conda/lib/python3.10/site-packages/sklearn/metrics/_classification.py:3001: UserWarning: The y_pred values do not sum to one. Make sure to pass probabilities.\n",
      "  warnings.warn(\n"
     ]
    },
    {
     "name": "stdout",
     "output_type": "stream",
     "text": [
      "[resnet101] Epoch 9 | Train Loss: 0.0486 | Val Loss: 0.0486 | Val LogLoss: 0.0492 | Valid Accuracy : 98.7879%\n",
      "✅ Best model saved (LogLoss: 0.0492)\n"
     ]
    },
    {
     "name": "stderr",
     "output_type": "stream",
     "text": [
      "[resnet101 Epoch 10/Train]: 100%|██████████| 31/31 [00:43<00:00,  1.40s/it]\n",
      "[resnet101 Epoch 10/Val]: 100%|██████████| 8/8 [00:06<00:00,  1.25it/s]\n",
      "/opt/conda/lib/python3.10/site-packages/sklearn/metrics/_classification.py:3001: UserWarning: The y_pred values do not sum to one. Make sure to pass probabilities.\n",
      "  warnings.warn(\n"
     ]
    },
    {
     "name": "stdout",
     "output_type": "stream",
     "text": [
      "[resnet101] Epoch 10 | Train Loss: 0.0362 | Val Loss: 0.0577 | Val LogLoss: 0.0572 | Valid Accuracy : 98.5859%\n"
     ]
    },
    {
     "name": "stderr",
     "output_type": "stream",
     "text": [
      "[resnet101 Epoch 11/Train]: 100%|██████████| 31/31 [00:43<00:00,  1.40s/it]\n",
      "[resnet101 Epoch 11/Val]: 100%|██████████| 8/8 [00:06<00:00,  1.32it/s]\n",
      "/opt/conda/lib/python3.10/site-packages/sklearn/metrics/_classification.py:3001: UserWarning: The y_pred values do not sum to one. Make sure to pass probabilities.\n",
      "  warnings.warn(\n"
     ]
    },
    {
     "name": "stdout",
     "output_type": "stream",
     "text": [
      "[resnet101] Epoch 11 | Train Loss: 0.0280 | Val Loss: 0.0596 | Val LogLoss: 0.0607 | Valid Accuracy : 98.7879%\n"
     ]
    },
    {
     "name": "stderr",
     "output_type": "stream",
     "text": [
      "[resnet101 Epoch 12/Train]: 100%|██████████| 31/31 [00:43<00:00,  1.39s/it]\n",
      "[resnet101 Epoch 12/Val]: 100%|██████████| 8/8 [00:06<00:00,  1.30it/s]\n",
      "/opt/conda/lib/python3.10/site-packages/sklearn/metrics/_classification.py:3001: UserWarning: The y_pred values do not sum to one. Make sure to pass probabilities.\n",
      "  warnings.warn(\n"
     ]
    },
    {
     "name": "stdout",
     "output_type": "stream",
     "text": [
      "[resnet101] Epoch 12 | Train Loss: 0.0246 | Val Loss: 0.0385 | Val LogLoss: 0.0385 | Valid Accuracy : 99.1919%\n",
      "✅ Best model saved (LogLoss: 0.0385)\n"
     ]
    },
    {
     "name": "stderr",
     "output_type": "stream",
     "text": [
      "[resnet101 Epoch 13/Train]: 100%|██████████| 31/31 [00:43<00:00,  1.40s/it]\n",
      "[resnet101 Epoch 13/Val]: 100%|██████████| 8/8 [00:06<00:00,  1.28it/s]\n",
      "/opt/conda/lib/python3.10/site-packages/sklearn/metrics/_classification.py:3001: UserWarning: The y_pred values do not sum to one. Make sure to pass probabilities.\n",
      "  warnings.warn(\n"
     ]
    },
    {
     "name": "stdout",
     "output_type": "stream",
     "text": [
      "[resnet101] Epoch 13 | Train Loss: 0.0138 | Val Loss: 0.0228 | Val LogLoss: 0.0230 | Valid Accuracy : 99.5960%\n",
      "✅ Best model saved (LogLoss: 0.0230)\n"
     ]
    },
    {
     "name": "stderr",
     "output_type": "stream",
     "text": [
      "[resnet101 Epoch 14/Train]: 100%|██████████| 31/31 [00:43<00:00,  1.39s/it]\n",
      "[resnet101 Epoch 14/Val]: 100%|██████████| 8/8 [00:06<00:00,  1.26it/s]\n",
      "/opt/conda/lib/python3.10/site-packages/sklearn/metrics/_classification.py:3001: UserWarning: The y_pred values do not sum to one. Make sure to pass probabilities.\n",
      "  warnings.warn(\n"
     ]
    },
    {
     "name": "stdout",
     "output_type": "stream",
     "text": [
      "[resnet101] Epoch 14 | Train Loss: 0.0086 | Val Loss: 0.0160 | Val LogLoss: 0.0162 | Valid Accuracy : 99.5960%\n",
      "✅ Best model saved (LogLoss: 0.0162)\n"
     ]
    },
    {
     "name": "stderr",
     "output_type": "stream",
     "text": [
      "[resnet101 Epoch 15/Train]: 100%|██████████| 31/31 [00:43<00:00,  1.40s/it]\n",
      "[resnet101 Epoch 15/Val]: 100%|██████████| 8/8 [00:06<00:00,  1.30it/s]\n",
      "/opt/conda/lib/python3.10/site-packages/sklearn/metrics/_classification.py:3001: UserWarning: The y_pred values do not sum to one. Make sure to pass probabilities.\n",
      "  warnings.warn(\n"
     ]
    },
    {
     "name": "stdout",
     "output_type": "stream",
     "text": [
      "[resnet101] Epoch 15 | Train Loss: 0.0206 | Val Loss: 0.0380 | Val LogLoss: 0.0389 | Valid Accuracy : 98.7879%\n"
     ]
    },
    {
     "name": "stderr",
     "output_type": "stream",
     "text": [
      "[resnet101 Epoch 16/Train]: 100%|██████████| 31/31 [00:43<00:00,  1.41s/it]\n",
      "[resnet101 Epoch 16/Val]: 100%|██████████| 8/8 [00:06<00:00,  1.31it/s]\n",
      "/opt/conda/lib/python3.10/site-packages/sklearn/metrics/_classification.py:3001: UserWarning: The y_pred values do not sum to one. Make sure to pass probabilities.\n",
      "  warnings.warn(\n"
     ]
    },
    {
     "name": "stdout",
     "output_type": "stream",
     "text": [
      "[resnet101] Epoch 16 | Train Loss: 0.0119 | Val Loss: 0.0278 | Val LogLoss: 0.0279 | Valid Accuracy : 99.3939%\n"
     ]
    },
    {
     "name": "stderr",
     "output_type": "stream",
     "text": [
      "[resnet101 Epoch 17/Train]: 100%|██████████| 31/31 [00:43<00:00,  1.40s/it]\n",
      "[resnet101 Epoch 17/Val]: 100%|██████████| 8/8 [00:06<00:00,  1.27it/s]\n",
      "/opt/conda/lib/python3.10/site-packages/sklearn/metrics/_classification.py:3001: UserWarning: The y_pred values do not sum to one. Make sure to pass probabilities.\n",
      "  warnings.warn(\n"
     ]
    },
    {
     "name": "stdout",
     "output_type": "stream",
     "text": [
      "[resnet101] Epoch 17 | Train Loss: 0.0098 | Val Loss: 0.0487 | Val LogLoss: 0.0483 | Valid Accuracy : 98.9899%\n"
     ]
    },
    {
     "name": "stderr",
     "output_type": "stream",
     "text": [
      "[resnet101 Epoch 18/Train]: 100%|██████████| 31/31 [00:43<00:00,  1.39s/it]\n",
      "[resnet101 Epoch 18/Val]: 100%|██████████| 8/8 [00:06<00:00,  1.28it/s]\n",
      "/opt/conda/lib/python3.10/site-packages/sklearn/metrics/_classification.py:3001: UserWarning: The y_pred values do not sum to one. Make sure to pass probabilities.\n",
      "  warnings.warn(\n"
     ]
    },
    {
     "name": "stdout",
     "output_type": "stream",
     "text": [
      "[resnet101] Epoch 18 | Train Loss: 0.0225 | Val Loss: 0.0855 | Val LogLoss: 0.0874 | Valid Accuracy : 97.3737%\n"
     ]
    },
    {
     "name": "stderr",
     "output_type": "stream",
     "text": [
      "[resnet101 Epoch 19/Train]: 100%|██████████| 31/31 [00:43<00:00,  1.39s/it]\n",
      "[resnet101 Epoch 19/Val]: 100%|██████████| 8/8 [00:06<00:00,  1.28it/s]\n",
      "/opt/conda/lib/python3.10/site-packages/sklearn/metrics/_classification.py:3001: UserWarning: The y_pred values do not sum to one. Make sure to pass probabilities.\n",
      "  warnings.warn(\n"
     ]
    },
    {
     "name": "stdout",
     "output_type": "stream",
     "text": [
      "[resnet101] Epoch 19 | Train Loss: 0.0173 | Val Loss: 0.0257 | Val LogLoss: 0.0264 | Valid Accuracy : 99.1919%\n",
      "🛑 Early stopping at epoch 19\n",
      "\n",
      "🚀 Training Model: efficientnet_b3 \n",
      "\n",
      "\n"
     ]
    },
    {
     "name": "stderr",
     "output_type": "stream",
     "text": [
      "[efficientnet_b3 Epoch 1/Train]: 100%|██████████| 31/31 [00:41<00:00,  1.33s/it]\n",
      "[efficientnet_b3 Epoch 1/Val]: 100%|██████████| 8/8 [00:06<00:00,  1.31it/s]\n",
      "/opt/conda/lib/python3.10/site-packages/sklearn/metrics/_classification.py:3001: UserWarning: The y_pred values do not sum to one. Make sure to pass probabilities.\n",
      "  warnings.warn(\n"
     ]
    },
    {
     "name": "stdout",
     "output_type": "stream",
     "text": [
      "[efficientnet_b3] Epoch 1 | Train Loss: 5.4093 | Val Loss: 4.6588 | Val LogLoss: 4.6558 | Valid Accuracy : 13.9394%\n",
      "✅ Best model saved (LogLoss: 4.6558)\n"
     ]
    },
    {
     "name": "stderr",
     "output_type": "stream",
     "text": [
      "[efficientnet_b3 Epoch 2/Train]: 100%|██████████| 31/31 [00:41<00:00,  1.32s/it]\n",
      "[efficientnet_b3 Epoch 2/Val]: 100%|██████████| 8/8 [00:06<00:00,  1.27it/s]\n",
      "/opt/conda/lib/python3.10/site-packages/sklearn/metrics/_classification.py:3001: UserWarning: The y_pred values do not sum to one. Make sure to pass probabilities.\n",
      "  warnings.warn(\n"
     ]
    },
    {
     "name": "stdout",
     "output_type": "stream",
     "text": [
      "[efficientnet_b3] Epoch 2 | Train Loss: 3.9186 | Val Loss: 3.2383 | Val LogLoss: 3.2391 | Valid Accuracy : 28.8889%\n",
      "✅ Best model saved (LogLoss: 3.2391)\n"
     ]
    },
    {
     "name": "stderr",
     "output_type": "stream",
     "text": [
      "[efficientnet_b3 Epoch 3/Train]: 100%|██████████| 31/31 [00:41<00:00,  1.34s/it]\n",
      "[efficientnet_b3 Epoch 3/Val]: 100%|██████████| 8/8 [00:06<00:00,  1.29it/s]\n",
      "/opt/conda/lib/python3.10/site-packages/sklearn/metrics/_classification.py:3001: UserWarning: The y_pred values do not sum to one. Make sure to pass probabilities.\n",
      "  warnings.warn(\n"
     ]
    },
    {
     "name": "stdout",
     "output_type": "stream",
     "text": [
      "[efficientnet_b3] Epoch 3 | Train Loss: 2.8429 | Val Loss: 2.4385 | Val LogLoss: 2.4413 | Valid Accuracy : 61.4141%\n",
      "✅ Best model saved (LogLoss: 2.4413)\n"
     ]
    },
    {
     "name": "stderr",
     "output_type": "stream",
     "text": [
      "[efficientnet_b3 Epoch 4/Train]: 100%|██████████| 31/31 [00:41<00:00,  1.34s/it]\n",
      "[efficientnet_b3 Epoch 4/Val]: 100%|██████████| 8/8 [00:06<00:00,  1.29it/s]\n",
      "/opt/conda/lib/python3.10/site-packages/sklearn/metrics/_classification.py:3001: UserWarning: The y_pred values do not sum to one. Make sure to pass probabilities.\n",
      "  warnings.warn(\n"
     ]
    },
    {
     "name": "stdout",
     "output_type": "stream",
     "text": [
      "[efficientnet_b3] Epoch 4 | Train Loss: 1.8702 | Val Loss: 1.3463 | Val LogLoss: 1.3469 | Valid Accuracy : 82.8283%\n",
      "✅ Best model saved (LogLoss: 1.3469)\n"
     ]
    },
    {
     "name": "stderr",
     "output_type": "stream",
     "text": [
      "[efficientnet_b3 Epoch 5/Train]: 100%|██████████| 31/31 [00:41<00:00,  1.33s/it]\n",
      "[efficientnet_b3 Epoch 5/Val]: 100%|██████████| 8/8 [00:06<00:00,  1.28it/s]\n",
      "/opt/conda/lib/python3.10/site-packages/sklearn/metrics/_classification.py:3001: UserWarning: The y_pred values do not sum to one. Make sure to pass probabilities.\n",
      "  warnings.warn(\n"
     ]
    },
    {
     "name": "stdout",
     "output_type": "stream",
     "text": [
      "[efficientnet_b3] Epoch 5 | Train Loss: 0.9806 | Val Loss: 0.6496 | Val LogLoss: 0.6476 | Valid Accuracy : 91.1111%\n",
      "✅ Best model saved (LogLoss: 0.6476)\n"
     ]
    },
    {
     "name": "stderr",
     "output_type": "stream",
     "text": [
      "[efficientnet_b3 Epoch 6/Train]: 100%|██████████| 31/31 [00:41<00:00,  1.33s/it]\n",
      "[efficientnet_b3 Epoch 6/Val]: 100%|██████████| 8/8 [00:06<00:00,  1.31it/s]\n",
      "/opt/conda/lib/python3.10/site-packages/sklearn/metrics/_classification.py:3001: UserWarning: The y_pred values do not sum to one. Make sure to pass probabilities.\n",
      "  warnings.warn(\n"
     ]
    },
    {
     "name": "stdout",
     "output_type": "stream",
     "text": [
      "[efficientnet_b3] Epoch 6 | Train Loss: 0.4666 | Val Loss: 0.3228 | Val LogLoss: 0.3211 | Valid Accuracy : 95.3535%\n",
      "✅ Best model saved (LogLoss: 0.3211)\n"
     ]
    },
    {
     "name": "stderr",
     "output_type": "stream",
     "text": [
      "[efficientnet_b3 Epoch 7/Train]: 100%|██████████| 31/31 [00:40<00:00,  1.32s/it]\n",
      "[efficientnet_b3 Epoch 7/Val]: 100%|██████████| 8/8 [00:06<00:00,  1.27it/s]\n",
      "/opt/conda/lib/python3.10/site-packages/sklearn/metrics/_classification.py:3001: UserWarning: The y_pred values do not sum to one. Make sure to pass probabilities.\n",
      "  warnings.warn(\n"
     ]
    },
    {
     "name": "stdout",
     "output_type": "stream",
     "text": [
      "[efficientnet_b3] Epoch 7 | Train Loss: 0.2342 | Val Loss: 0.1975 | Val LogLoss: 0.1952 | Valid Accuracy : 96.9697%\n",
      "✅ Best model saved (LogLoss: 0.1952)\n"
     ]
    },
    {
     "name": "stderr",
     "output_type": "stream",
     "text": [
      "[efficientnet_b3 Epoch 8/Train]: 100%|██████████| 31/31 [00:40<00:00,  1.32s/it]\n",
      "[efficientnet_b3 Epoch 8/Val]: 100%|██████████| 8/8 [00:06<00:00,  1.27it/s]\n",
      "/opt/conda/lib/python3.10/site-packages/sklearn/metrics/_classification.py:3001: UserWarning: The y_pred values do not sum to one. Make sure to pass probabilities.\n",
      "  warnings.warn(\n"
     ]
    },
    {
     "name": "stdout",
     "output_type": "stream",
     "text": [
      "[efficientnet_b3] Epoch 8 | Train Loss: 0.1372 | Val Loss: 0.1345 | Val LogLoss: 0.1321 | Valid Accuracy : 98.1818%\n",
      "✅ Best model saved (LogLoss: 0.1321)\n"
     ]
    },
    {
     "name": "stderr",
     "output_type": "stream",
     "text": [
      "[efficientnet_b3 Epoch 9/Train]: 100%|██████████| 31/31 [00:41<00:00,  1.33s/it]\n",
      "[efficientnet_b3 Epoch 9/Val]: 100%|██████████| 8/8 [00:06<00:00,  1.27it/s]\n",
      "/opt/conda/lib/python3.10/site-packages/sklearn/metrics/_classification.py:3001: UserWarning: The y_pred values do not sum to one. Make sure to pass probabilities.\n",
      "  warnings.warn(\n"
     ]
    },
    {
     "name": "stdout",
     "output_type": "stream",
     "text": [
      "[efficientnet_b3] Epoch 9 | Train Loss: 0.0886 | Val Loss: 0.1110 | Val LogLoss: 0.1084 | Valid Accuracy : 98.1818%\n",
      "✅ Best model saved (LogLoss: 0.1084)\n"
     ]
    },
    {
     "name": "stderr",
     "output_type": "stream",
     "text": [
      "[efficientnet_b3 Epoch 10/Train]: 100%|██████████| 31/31 [00:41<00:00,  1.33s/it]\n",
      "[efficientnet_b3 Epoch 10/Val]: 100%|██████████| 8/8 [00:06<00:00,  1.31it/s]\n",
      "/opt/conda/lib/python3.10/site-packages/sklearn/metrics/_classification.py:3001: UserWarning: The y_pred values do not sum to one. Make sure to pass probabilities.\n",
      "  warnings.warn(\n"
     ]
    },
    {
     "name": "stdout",
     "output_type": "stream",
     "text": [
      "[efficientnet_b3] Epoch 10 | Train Loss: 0.0611 | Val Loss: 0.0958 | Val LogLoss: 0.0938 | Valid Accuracy : 98.1818%\n",
      "✅ Best model saved (LogLoss: 0.0938)\n"
     ]
    },
    {
     "name": "stderr",
     "output_type": "stream",
     "text": [
      "[efficientnet_b3 Epoch 11/Train]: 100%|██████████| 31/31 [00:41<00:00,  1.33s/it]\n",
      "[efficientnet_b3 Epoch 11/Val]: 100%|██████████| 8/8 [00:06<00:00,  1.29it/s]\n",
      "/opt/conda/lib/python3.10/site-packages/sklearn/metrics/_classification.py:3001: UserWarning: The y_pred values do not sum to one. Make sure to pass probabilities.\n",
      "  warnings.warn(\n"
     ]
    },
    {
     "name": "stdout",
     "output_type": "stream",
     "text": [
      "[efficientnet_b3] Epoch 11 | Train Loss: 0.0502 | Val Loss: 0.0849 | Val LogLoss: 0.0830 | Valid Accuracy : 98.3838%\n",
      "✅ Best model saved (LogLoss: 0.0830)\n"
     ]
    },
    {
     "name": "stderr",
     "output_type": "stream",
     "text": [
      "[efficientnet_b3 Epoch 12/Train]: 100%|██████████| 31/31 [00:40<00:00,  1.32s/it]\n",
      "[efficientnet_b3 Epoch 12/Val]: 100%|██████████| 8/8 [00:06<00:00,  1.32it/s]\n",
      "/opt/conda/lib/python3.10/site-packages/sklearn/metrics/_classification.py:3001: UserWarning: The y_pred values do not sum to one. Make sure to pass probabilities.\n",
      "  warnings.warn(\n"
     ]
    },
    {
     "name": "stdout",
     "output_type": "stream",
     "text": [
      "[efficientnet_b3] Epoch 12 | Train Loss: 0.0362 | Val Loss: 0.0802 | Val LogLoss: 0.0775 | Valid Accuracy : 98.3838%\n",
      "✅ Best model saved (LogLoss: 0.0775)\n"
     ]
    },
    {
     "name": "stderr",
     "output_type": "stream",
     "text": [
      "[efficientnet_b3 Epoch 13/Train]: 100%|██████████| 31/31 [00:40<00:00,  1.32s/it]\n",
      "[efficientnet_b3 Epoch 13/Val]: 100%|██████████| 8/8 [00:06<00:00,  1.31it/s]\n",
      "/opt/conda/lib/python3.10/site-packages/sklearn/metrics/_classification.py:3001: UserWarning: The y_pred values do not sum to one. Make sure to pass probabilities.\n",
      "  warnings.warn(\n"
     ]
    },
    {
     "name": "stdout",
     "output_type": "stream",
     "text": [
      "[efficientnet_b3] Epoch 13 | Train Loss: 0.0303 | Val Loss: 0.0837 | Val LogLoss: 0.0809 | Valid Accuracy : 98.3838%\n"
     ]
    },
    {
     "name": "stderr",
     "output_type": "stream",
     "text": [
      "[efficientnet_b3 Epoch 14/Train]: 100%|██████████| 31/31 [00:41<00:00,  1.33s/it]\n",
      "[efficientnet_b3 Epoch 14/Val]: 100%|██████████| 8/8 [00:06<00:00,  1.28it/s]\n",
      "/opt/conda/lib/python3.10/site-packages/sklearn/metrics/_classification.py:3001: UserWarning: The y_pred values do not sum to one. Make sure to pass probabilities.\n",
      "  warnings.warn(\n"
     ]
    },
    {
     "name": "stdout",
     "output_type": "stream",
     "text": [
      "[efficientnet_b3] Epoch 14 | Train Loss: 0.0224 | Val Loss: 0.0668 | Val LogLoss: 0.0646 | Valid Accuracy : 98.9899%\n",
      "✅ Best model saved (LogLoss: 0.0646)\n"
     ]
    },
    {
     "name": "stderr",
     "output_type": "stream",
     "text": [
      "[efficientnet_b3 Epoch 15/Train]: 100%|██████████| 31/31 [00:41<00:00,  1.33s/it]\n",
      "[efficientnet_b3 Epoch 15/Val]: 100%|██████████| 8/8 [00:06<00:00,  1.29it/s]\n",
      "/opt/conda/lib/python3.10/site-packages/sklearn/metrics/_classification.py:3001: UserWarning: The y_pred values do not sum to one. Make sure to pass probabilities.\n",
      "  warnings.warn(\n"
     ]
    },
    {
     "name": "stdout",
     "output_type": "stream",
     "text": [
      "[efficientnet_b3] Epoch 15 | Train Loss: 0.0228 | Val Loss: 0.0662 | Val LogLoss: 0.0642 | Valid Accuracy : 98.9899%\n",
      "✅ Best model saved (LogLoss: 0.0642)\n"
     ]
    },
    {
     "name": "stderr",
     "output_type": "stream",
     "text": [
      "[efficientnet_b3 Epoch 16/Train]: 100%|██████████| 31/31 [00:41<00:00,  1.33s/it]\n",
      "[efficientnet_b3 Epoch 16/Val]: 100%|██████████| 8/8 [00:06<00:00,  1.28it/s]\n",
      "/opt/conda/lib/python3.10/site-packages/sklearn/metrics/_classification.py:3001: UserWarning: The y_pred values do not sum to one. Make sure to pass probabilities.\n",
      "  warnings.warn(\n"
     ]
    },
    {
     "name": "stdout",
     "output_type": "stream",
     "text": [
      "[efficientnet_b3] Epoch 16 | Train Loss: 0.0214 | Val Loss: 0.0642 | Val LogLoss: 0.0623 | Valid Accuracy : 98.7879%\n",
      "✅ Best model saved (LogLoss: 0.0623)\n"
     ]
    },
    {
     "name": "stderr",
     "output_type": "stream",
     "text": [
      "[efficientnet_b3 Epoch 17/Train]: 100%|██████████| 31/31 [00:41<00:00,  1.33s/it]\n",
      "[efficientnet_b3 Epoch 17/Val]: 100%|██████████| 8/8 [00:06<00:00,  1.30it/s]\n",
      "/opt/conda/lib/python3.10/site-packages/sklearn/metrics/_classification.py:3001: UserWarning: The y_pred values do not sum to one. Make sure to pass probabilities.\n",
      "  warnings.warn(\n"
     ]
    },
    {
     "name": "stdout",
     "output_type": "stream",
     "text": [
      "[efficientnet_b3] Epoch 17 | Train Loss: 0.0162 | Val Loss: 0.0651 | Val LogLoss: 0.0631 | Valid Accuracy : 98.7879%\n"
     ]
    },
    {
     "name": "stderr",
     "output_type": "stream",
     "text": [
      "[efficientnet_b3 Epoch 18/Train]: 100%|██████████| 31/31 [00:41<00:00,  1.33s/it]\n",
      "[efficientnet_b3 Epoch 18/Val]: 100%|██████████| 8/8 [00:06<00:00,  1.26it/s]\n",
      "/opt/conda/lib/python3.10/site-packages/sklearn/metrics/_classification.py:3001: UserWarning: The y_pred values do not sum to one. Make sure to pass probabilities.\n",
      "  warnings.warn(\n"
     ]
    },
    {
     "name": "stdout",
     "output_type": "stream",
     "text": [
      "[efficientnet_b3] Epoch 18 | Train Loss: 0.0127 | Val Loss: 0.0594 | Val LogLoss: 0.0579 | Valid Accuracy : 98.7879%\n",
      "✅ Best model saved (LogLoss: 0.0579)\n"
     ]
    },
    {
     "name": "stderr",
     "output_type": "stream",
     "text": [
      "[efficientnet_b3 Epoch 19/Train]: 100%|██████████| 31/31 [00:41<00:00,  1.33s/it]\n",
      "[efficientnet_b3 Epoch 19/Val]: 100%|██████████| 8/8 [00:06<00:00,  1.31it/s]\n",
      "/opt/conda/lib/python3.10/site-packages/sklearn/metrics/_classification.py:3001: UserWarning: The y_pred values do not sum to one. Make sure to pass probabilities.\n",
      "  warnings.warn(\n"
     ]
    },
    {
     "name": "stdout",
     "output_type": "stream",
     "text": [
      "[efficientnet_b3] Epoch 19 | Train Loss: 0.0117 | Val Loss: 0.0574 | Val LogLoss: 0.0561 | Valid Accuracy : 98.7879%\n",
      "✅ Best model saved (LogLoss: 0.0561)\n"
     ]
    },
    {
     "name": "stderr",
     "output_type": "stream",
     "text": [
      "[efficientnet_b3 Epoch 20/Train]: 100%|██████████| 31/31 [00:41<00:00,  1.34s/it]\n",
      "[efficientnet_b3 Epoch 20/Val]: 100%|██████████| 8/8 [00:06<00:00,  1.28it/s]\n",
      "/opt/conda/lib/python3.10/site-packages/sklearn/metrics/_classification.py:3001: UserWarning: The y_pred values do not sum to one. Make sure to pass probabilities.\n",
      "  warnings.warn(\n"
     ]
    },
    {
     "name": "stdout",
     "output_type": "stream",
     "text": [
      "[efficientnet_b3] Epoch 20 | Train Loss: 0.0102 | Val Loss: 0.0564 | Val LogLoss: 0.0545 | Valid Accuracy : 98.1818%\n",
      "✅ Best model saved (LogLoss: 0.0545)\n",
      "\n",
      "🚀 Training Model: efficientnet_b4 \n",
      "\n",
      "\n"
     ]
    },
    {
     "name": "stderr",
     "output_type": "stream",
     "text": [
      "[efficientnet_b4 Epoch 1/Train]: 100%|██████████| 31/31 [00:43<00:00,  1.39s/it]\n",
      "[efficientnet_b4 Epoch 1/Val]: 100%|██████████| 8/8 [00:06<00:00,  1.24it/s]\n",
      "/opt/conda/lib/python3.10/site-packages/sklearn/metrics/_classification.py:3001: UserWarning: The y_pred values do not sum to one. Make sure to pass probabilities.\n",
      "  warnings.warn(\n"
     ]
    },
    {
     "name": "stdout",
     "output_type": "stream",
     "text": [
      "[efficientnet_b4] Epoch 1 | Train Loss: 5.5010 | Val Loss: 4.7399 | Val LogLoss: 4.7386 | Valid Accuracy : 4.2424%\n",
      "✅ Best model saved (LogLoss: 4.7386)\n"
     ]
    },
    {
     "name": "stderr",
     "output_type": "stream",
     "text": [
      "[efficientnet_b4 Epoch 2/Train]: 100%|██████████| 31/31 [00:43<00:00,  1.41s/it]\n",
      "[efficientnet_b4 Epoch 2/Val]: 100%|██████████| 8/8 [00:06<00:00,  1.26it/s]\n",
      "/opt/conda/lib/python3.10/site-packages/sklearn/metrics/_classification.py:3001: UserWarning: The y_pred values do not sum to one. Make sure to pass probabilities.\n",
      "  warnings.warn(\n"
     ]
    },
    {
     "name": "stdout",
     "output_type": "stream",
     "text": [
      "[efficientnet_b4] Epoch 2 | Train Loss: 3.5895 | Val Loss: 3.3456 | Val LogLoss: 3.3447 | Valid Accuracy : 8.8889%\n",
      "✅ Best model saved (LogLoss: 3.3447)\n"
     ]
    },
    {
     "name": "stderr",
     "output_type": "stream",
     "text": [
      "[efficientnet_b4 Epoch 3/Train]: 100%|██████████| 31/31 [00:43<00:00,  1.40s/it]\n",
      "[efficientnet_b4 Epoch 3/Val]: 100%|██████████| 8/8 [00:06<00:00,  1.26it/s]\n",
      "/opt/conda/lib/python3.10/site-packages/sklearn/metrics/_classification.py:3001: UserWarning: The y_pred values do not sum to one. Make sure to pass probabilities.\n",
      "  warnings.warn(\n"
     ]
    },
    {
     "name": "stdout",
     "output_type": "stream",
     "text": [
      "[efficientnet_b4] Epoch 3 | Train Loss: 3.2803 | Val Loss: 3.2425 | Val LogLoss: 3.2434 | Valid Accuracy : 19.3939%\n",
      "✅ Best model saved (LogLoss: 3.2434)\n"
     ]
    },
    {
     "name": "stderr",
     "output_type": "stream",
     "text": [
      "[efficientnet_b4 Epoch 4/Train]: 100%|██████████| 31/31 [00:42<00:00,  1.38s/it]\n",
      "[efficientnet_b4 Epoch 4/Val]: 100%|██████████| 8/8 [00:06<00:00,  1.28it/s]\n",
      "/opt/conda/lib/python3.10/site-packages/sklearn/metrics/_classification.py:3001: UserWarning: The y_pred values do not sum to one. Make sure to pass probabilities.\n",
      "  warnings.warn(\n"
     ]
    },
    {
     "name": "stdout",
     "output_type": "stream",
     "text": [
      "[efficientnet_b4] Epoch 4 | Train Loss: 3.1501 | Val Loss: 3.1050 | Val LogLoss: 3.1058 | Valid Accuracy : 26.4646%\n",
      "✅ Best model saved (LogLoss: 3.1058)\n"
     ]
    },
    {
     "name": "stderr",
     "output_type": "stream",
     "text": [
      "[efficientnet_b4 Epoch 5/Train]: 100%|██████████| 31/31 [00:43<00:00,  1.39s/it]\n",
      "[efficientnet_b4 Epoch 5/Val]: 100%|██████████| 8/8 [00:06<00:00,  1.26it/s]\n",
      "/opt/conda/lib/python3.10/site-packages/sklearn/metrics/_classification.py:3001: UserWarning: The y_pred values do not sum to one. Make sure to pass probabilities.\n",
      "  warnings.warn(\n"
     ]
    },
    {
     "name": "stdout",
     "output_type": "stream",
     "text": [
      "[efficientnet_b4] Epoch 5 | Train Loss: 2.9105 | Val Loss: 2.8146 | Val LogLoss: 2.8168 | Valid Accuracy : 42.2222%\n",
      "✅ Best model saved (LogLoss: 2.8168)\n"
     ]
    },
    {
     "name": "stderr",
     "output_type": "stream",
     "text": [
      "[efficientnet_b4 Epoch 6/Train]: 100%|██████████| 31/31 [00:43<00:00,  1.39s/it]\n",
      "[efficientnet_b4 Epoch 6/Val]: 100%|██████████| 8/8 [00:06<00:00,  1.27it/s]\n",
      "/opt/conda/lib/python3.10/site-packages/sklearn/metrics/_classification.py:3001: UserWarning: The y_pred values do not sum to one. Make sure to pass probabilities.\n",
      "  warnings.warn(\n"
     ]
    },
    {
     "name": "stdout",
     "output_type": "stream",
     "text": [
      "[efficientnet_b4] Epoch 6 | Train Loss: 2.4089 | Val Loss: 2.2152 | Val LogLoss: 2.2162 | Valid Accuracy : 52.3232%\n",
      "✅ Best model saved (LogLoss: 2.2162)\n"
     ]
    },
    {
     "name": "stderr",
     "output_type": "stream",
     "text": [
      "[efficientnet_b4 Epoch 7/Train]: 100%|██████████| 31/31 [00:43<00:00,  1.40s/it]\n",
      "[efficientnet_b4 Epoch 7/Val]: 100%|██████████| 8/8 [00:06<00:00,  1.29it/s]\n",
      "/opt/conda/lib/python3.10/site-packages/sklearn/metrics/_classification.py:3001: UserWarning: The y_pred values do not sum to one. Make sure to pass probabilities.\n",
      "  warnings.warn(\n"
     ]
    },
    {
     "name": "stdout",
     "output_type": "stream",
     "text": [
      "[efficientnet_b4] Epoch 7 | Train Loss: 1.6203 | Val Loss: 1.4071 | Val LogLoss: 1.4090 | Valid Accuracy : 69.8990%\n",
      "✅ Best model saved (LogLoss: 1.4090)\n"
     ]
    },
    {
     "name": "stderr",
     "output_type": "stream",
     "text": [
      "[efficientnet_b4 Epoch 8/Train]: 100%|██████████| 31/31 [00:43<00:00,  1.39s/it]\n",
      "[efficientnet_b4 Epoch 8/Val]: 100%|██████████| 8/8 [00:06<00:00,  1.25it/s]\n",
      "/opt/conda/lib/python3.10/site-packages/sklearn/metrics/_classification.py:3001: UserWarning: The y_pred values do not sum to one. Make sure to pass probabilities.\n",
      "  warnings.warn(\n"
     ]
    },
    {
     "name": "stdout",
     "output_type": "stream",
     "text": [
      "[efficientnet_b4] Epoch 8 | Train Loss: 0.9859 | Val Loss: 0.8574 | Val LogLoss: 0.8583 | Valid Accuracy : 80.2020%\n",
      "✅ Best model saved (LogLoss: 0.8583)\n"
     ]
    },
    {
     "name": "stderr",
     "output_type": "stream",
     "text": [
      "[efficientnet_b4 Epoch 9/Train]: 100%|██████████| 31/31 [00:43<00:00,  1.41s/it]\n",
      "[efficientnet_b4 Epoch 9/Val]: 100%|██████████| 8/8 [00:06<00:00,  1.30it/s]\n",
      "/opt/conda/lib/python3.10/site-packages/sklearn/metrics/_classification.py:3001: UserWarning: The y_pred values do not sum to one. Make sure to pass probabilities.\n",
      "  warnings.warn(\n"
     ]
    },
    {
     "name": "stdout",
     "output_type": "stream",
     "text": [
      "[efficientnet_b4] Epoch 9 | Train Loss: 0.6003 | Val Loss: 0.5507 | Val LogLoss: 0.5510 | Valid Accuracy : 88.2828%\n",
      "✅ Best model saved (LogLoss: 0.5510)\n"
     ]
    },
    {
     "name": "stderr",
     "output_type": "stream",
     "text": [
      "[efficientnet_b4 Epoch 10/Train]: 100%|██████████| 31/31 [00:43<00:00,  1.39s/it]\n",
      "[efficientnet_b4 Epoch 10/Val]: 100%|██████████| 8/8 [00:06<00:00,  1.30it/s]\n",
      "/opt/conda/lib/python3.10/site-packages/sklearn/metrics/_classification.py:3001: UserWarning: The y_pred values do not sum to one. Make sure to pass probabilities.\n",
      "  warnings.warn(\n"
     ]
    },
    {
     "name": "stdout",
     "output_type": "stream",
     "text": [
      "[efficientnet_b4] Epoch 10 | Train Loss: 0.4025 | Val Loss: 0.3895 | Val LogLoss: 0.3894 | Valid Accuracy : 92.9293%\n",
      "✅ Best model saved (LogLoss: 0.3894)\n"
     ]
    },
    {
     "name": "stderr",
     "output_type": "stream",
     "text": [
      "[efficientnet_b4 Epoch 11/Train]: 100%|██████████| 31/31 [00:43<00:00,  1.40s/it]\n",
      "[efficientnet_b4 Epoch 11/Val]: 100%|██████████| 8/8 [00:06<00:00,  1.28it/s]\n",
      "/opt/conda/lib/python3.10/site-packages/sklearn/metrics/_classification.py:3001: UserWarning: The y_pred values do not sum to one. Make sure to pass probabilities.\n",
      "  warnings.warn(\n"
     ]
    },
    {
     "name": "stdout",
     "output_type": "stream",
     "text": [
      "[efficientnet_b4] Epoch 11 | Train Loss: 0.2825 | Val Loss: 0.2996 | Val LogLoss: 0.2992 | Valid Accuracy : 93.9394%\n",
      "✅ Best model saved (LogLoss: 0.2992)\n"
     ]
    },
    {
     "name": "stderr",
     "output_type": "stream",
     "text": [
      "[efficientnet_b4 Epoch 12/Train]: 100%|██████████| 31/31 [00:43<00:00,  1.40s/it]\n",
      "[efficientnet_b4 Epoch 12/Val]: 100%|██████████| 8/8 [00:06<00:00,  1.28it/s]\n",
      "/opt/conda/lib/python3.10/site-packages/sklearn/metrics/_classification.py:3001: UserWarning: The y_pred values do not sum to one. Make sure to pass probabilities.\n",
      "  warnings.warn(\n"
     ]
    },
    {
     "name": "stdout",
     "output_type": "stream",
     "text": [
      "[efficientnet_b4] Epoch 12 | Train Loss: 0.2089 | Val Loss: 0.2436 | Val LogLoss: 0.2437 | Valid Accuracy : 94.7475%\n",
      "✅ Best model saved (LogLoss: 0.2437)\n"
     ]
    },
    {
     "name": "stderr",
     "output_type": "stream",
     "text": [
      "[efficientnet_b4 Epoch 13/Train]: 100%|██████████| 31/31 [00:43<00:00,  1.39s/it]\n",
      "[efficientnet_b4 Epoch 13/Val]: 100%|██████████| 8/8 [00:06<00:00,  1.25it/s]\n",
      "/opt/conda/lib/python3.10/site-packages/sklearn/metrics/_classification.py:3001: UserWarning: The y_pred values do not sum to one. Make sure to pass probabilities.\n",
      "  warnings.warn(\n"
     ]
    },
    {
     "name": "stdout",
     "output_type": "stream",
     "text": [
      "[efficientnet_b4] Epoch 13 | Train Loss: 0.1760 | Val Loss: 0.2025 | Val LogLoss: 0.2032 | Valid Accuracy : 95.7576%\n",
      "✅ Best model saved (LogLoss: 0.2032)\n"
     ]
    },
    {
     "name": "stderr",
     "output_type": "stream",
     "text": [
      "[efficientnet_b4 Epoch 14/Train]: 100%|██████████| 31/31 [00:43<00:00,  1.41s/it]\n",
      "[efficientnet_b4 Epoch 14/Val]: 100%|██████████| 8/8 [00:06<00:00,  1.28it/s]\n",
      "/opt/conda/lib/python3.10/site-packages/sklearn/metrics/_classification.py:3001: UserWarning: The y_pred values do not sum to one. Make sure to pass probabilities.\n",
      "  warnings.warn(\n"
     ]
    },
    {
     "name": "stdout",
     "output_type": "stream",
     "text": [
      "[efficientnet_b4] Epoch 14 | Train Loss: 0.1382 | Val Loss: 0.1789 | Val LogLoss: 0.1797 | Valid Accuracy : 95.7576%\n",
      "✅ Best model saved (LogLoss: 0.1797)\n"
     ]
    },
    {
     "name": "stderr",
     "output_type": "stream",
     "text": [
      "[efficientnet_b4 Epoch 15/Train]: 100%|██████████| 31/31 [00:43<00:00,  1.40s/it]\n",
      "[efficientnet_b4 Epoch 15/Val]: 100%|██████████| 8/8 [00:06<00:00,  1.31it/s]\n",
      "/opt/conda/lib/python3.10/site-packages/sklearn/metrics/_classification.py:3001: UserWarning: The y_pred values do not sum to one. Make sure to pass probabilities.\n",
      "  warnings.warn(\n"
     ]
    },
    {
     "name": "stdout",
     "output_type": "stream",
     "text": [
      "[efficientnet_b4] Epoch 15 | Train Loss: 0.1110 | Val Loss: 0.1480 | Val LogLoss: 0.1484 | Valid Accuracy : 97.3737%\n",
      "✅ Best model saved (LogLoss: 0.1484)\n"
     ]
    },
    {
     "name": "stderr",
     "output_type": "stream",
     "text": [
      "[efficientnet_b4 Epoch 16/Train]: 100%|██████████| 31/31 [00:43<00:00,  1.39s/it]\n",
      "[efficientnet_b4 Epoch 16/Val]: 100%|██████████| 8/8 [00:06<00:00,  1.28it/s]\n",
      "/opt/conda/lib/python3.10/site-packages/sklearn/metrics/_classification.py:3001: UserWarning: The y_pred values do not sum to one. Make sure to pass probabilities.\n",
      "  warnings.warn(\n"
     ]
    },
    {
     "name": "stdout",
     "output_type": "stream",
     "text": [
      "[efficientnet_b4] Epoch 16 | Train Loss: 0.0942 | Val Loss: 0.1501 | Val LogLoss: 0.1508 | Valid Accuracy : 96.3636%\n"
     ]
    },
    {
     "name": "stderr",
     "output_type": "stream",
     "text": [
      "[efficientnet_b4 Epoch 17/Train]: 100%|██████████| 31/31 [00:43<00:00,  1.39s/it]\n",
      "[efficientnet_b4 Epoch 17/Val]: 100%|██████████| 8/8 [00:06<00:00,  1.29it/s]\n",
      "/opt/conda/lib/python3.10/site-packages/sklearn/metrics/_classification.py:3001: UserWarning: The y_pred values do not sum to one. Make sure to pass probabilities.\n",
      "  warnings.warn(\n"
     ]
    },
    {
     "name": "stdout",
     "output_type": "stream",
     "text": [
      "[efficientnet_b4] Epoch 17 | Train Loss: 0.0689 | Val Loss: 0.1290 | Val LogLoss: 0.1293 | Valid Accuracy : 96.9697%\n",
      "✅ Best model saved (LogLoss: 0.1293)\n"
     ]
    },
    {
     "name": "stderr",
     "output_type": "stream",
     "text": [
      "[efficientnet_b4 Epoch 18/Train]: 100%|██████████| 31/31 [00:43<00:00,  1.40s/it]\n",
      "[efficientnet_b4 Epoch 18/Val]: 100%|██████████| 8/8 [00:06<00:00,  1.25it/s]\n",
      "/opt/conda/lib/python3.10/site-packages/sklearn/metrics/_classification.py:3001: UserWarning: The y_pred values do not sum to one. Make sure to pass probabilities.\n",
      "  warnings.warn(\n"
     ]
    },
    {
     "name": "stdout",
     "output_type": "stream",
     "text": [
      "[efficientnet_b4] Epoch 18 | Train Loss: 0.0603 | Val Loss: 0.1112 | Val LogLoss: 0.1121 | Valid Accuracy : 97.3737%\n",
      "✅ Best model saved (LogLoss: 0.1121)\n"
     ]
    },
    {
     "name": "stderr",
     "output_type": "stream",
     "text": [
      "[efficientnet_b4 Epoch 19/Train]: 100%|██████████| 31/31 [00:43<00:00,  1.40s/it]\n",
      "[efficientnet_b4 Epoch 19/Val]: 100%|██████████| 8/8 [00:06<00:00,  1.30it/s]\n",
      "/opt/conda/lib/python3.10/site-packages/sklearn/metrics/_classification.py:3001: UserWarning: The y_pred values do not sum to one. Make sure to pass probabilities.\n",
      "  warnings.warn(\n"
     ]
    },
    {
     "name": "stdout",
     "output_type": "stream",
     "text": [
      "[efficientnet_b4] Epoch 19 | Train Loss: 0.0496 | Val Loss: 0.1104 | Val LogLoss: 0.1115 | Valid Accuracy : 97.5758%\n",
      "✅ Best model saved (LogLoss: 0.1115)\n"
     ]
    },
    {
     "name": "stderr",
     "output_type": "stream",
     "text": [
      "[efficientnet_b4 Epoch 20/Train]: 100%|██████████| 31/31 [00:42<00:00,  1.39s/it]\n",
      "[efficientnet_b4 Epoch 20/Val]: 100%|██████████| 8/8 [00:06<00:00,  1.30it/s]\n",
      "/opt/conda/lib/python3.10/site-packages/sklearn/metrics/_classification.py:3001: UserWarning: The y_pred values do not sum to one. Make sure to pass probabilities.\n",
      "  warnings.warn(\n"
     ]
    },
    {
     "name": "stdout",
     "output_type": "stream",
     "text": [
      "[efficientnet_b4] Epoch 20 | Train Loss: 0.0539 | Val Loss: 0.1079 | Val LogLoss: 0.1086 | Valid Accuracy : 97.1717%\n",
      "✅ Best model saved (LogLoss: 0.1086)\n"
     ]
    }
   ],
   "source": [
    "\n",
    "\n",
    "for backbone_name in models:\n",
    "    model = BaseModel(num_classes=len(class_names), backbone_name = backbone_name).to(device)\n",
    "\n",
    "    print(f\"\\n🚀 Training Model: {backbone_name} \\n\\n\")\n",
    "    # 기준값 초기화\n",
    "    best_logloss = float('inf')\n",
    "\n",
    "    patience = 5\n",
    "    no_improve = 0\n",
    "    \n",
    "    # 손실 함수\n",
    "    criterion = nn.CrossEntropyLoss()\n",
    "\n",
    "    # 옵티마이저\n",
    "    optimizer = optim.Adam(model.parameters(), lr=CFG['LEARNING_RATE'])\n",
    "\n",
    "    # 스케줄러\n",
    "    scheduler = torch.optim.lr_scheduler.ReduceLROnPlateau(optimizer, 'min', patience=3)\n",
    "\n",
    "    # 학습 및 검증 루프 \n",
    "    for epoch in range(CFG['EPOCHS']):\n",
    "        # Train\n",
    "        model.train()\n",
    "        train_loss = 0.0\n",
    "        for images, labels in tqdm(train_loader, desc=f\"[{backbone_name} Epoch {epoch+1}/Train]\"):\n",
    "            images, labels = images.to(device), labels.to(device)\n",
    "            optimizer.zero_grad()\n",
    "            outputs = model(images)  # logits\n",
    "            loss = criterion(outputs, labels)\n",
    "            loss.backward()\n",
    "            optimizer.step()\n",
    "            train_loss += loss.item()\n",
    "\n",
    "        avg_train_loss = train_loss / len(train_loader)\n",
    "\n",
    "        # Validation\n",
    "        model.eval()\n",
    "        val_loss = 0.0\n",
    "        correct = 0\n",
    "        total = 0\n",
    "        all_probs = []\n",
    "        all_labels = []\n",
    "\n",
    "        with torch.no_grad():\n",
    "            for images, labels in tqdm(val_loader, desc=f\"[{backbone_name} Epoch {epoch+1}/Val]\"):\n",
    "                images, labels = images.to(device), labels.to(device)\n",
    "                outputs = model(images)\n",
    "                loss = criterion(outputs, labels)\n",
    "                val_loss += loss.item()\n",
    "\n",
    "                # Accuracy\n",
    "                _, preds = torch.max(outputs, 1)\n",
    "                correct += (preds == labels).sum().item()\n",
    "                total += labels.size(0)\n",
    "\n",
    "                # LogLoss\n",
    "                probs = F.softmax(outputs, dim=1)\n",
    "                all_probs.extend(probs.cpu().numpy())\n",
    "                all_labels.extend(labels.cpu().numpy())\n",
    "\n",
    "        avg_val_loss = val_loss / len(val_loader)\n",
    "        val_accuracy = 100 * correct / total\n",
    "        val_logloss = log_loss(all_labels, all_probs, labels=list(range(len(class_names))))\n",
    "\n",
    "        # 결과 출력\n",
    "        print(f\"[{backbone_name}] Epoch {epoch+1} | \"\n",
    "                f\"Train Loss: {avg_train_loss:.4f} | \"\n",
    "                f\"Val Loss: {avg_val_loss:.4f} | \"\n",
    "                f\"Val LogLoss: {val_logloss:.4f} | \"\n",
    "                f\"Valid Accuracy : {val_accuracy:.4f}%\")    \n",
    "        \n",
    "        scheduler.step(val_logloss)\n",
    "\n",
    "        # Best model 저장\n",
    "        \n",
    "        if val_logloss < best_logloss:\n",
    "            best_logloss = val_logloss\n",
    "            no_improve = 0\n",
    "            torch.save(model.state_dict(), f\"best_{backbone_name}_epoch{epoch+1}.pth\")\n",
    "            print(f\"✅ Best model saved (LogLoss: {val_logloss:.4f})\")\n",
    "        else:\n",
    "            no_improve += 1\n",
    "            if no_improve >= patience:\n",
    "                print(f\"🛑 Early stopping at epoch {epoch+1}\")\n",
    "                break\n",
    "\n",
    "    del model  # 모델 학습 후 메모리 해제\n",
    "    torch.cuda.empty_cache()\n"
   ]
  },
  {
   "cell_type": "markdown",
   "metadata": {},
   "source": [
    "# 추가학습"
   ]
  },
  {
   "cell_type": "code",
   "execution_count": null,
   "metadata": {},
   "outputs": [],
   "source": [
    "## 작성중\n",
    "\n",
    "# 모델 불러오기\n",
    "model = BaseModel(num_classes=len(class_names), backbone_name='efficientnet_b4').to(device)\n",
    "model.load_state_dict(torch.load('best_efficientnet_b4_epoch10.pth'))\n",
    "backbone_name = 'efficientnet_b4'\n",
    "# 옵티마이저/스케줄러 재설정\n",
    "optimizer = optim.Adam(model.parameters(), lr=CFG['LEARNING_RATE'])\n",
    "scheduler = torch.optim.lr_scheduler.ReduceLROnPlateau(optimizer, 'min', patience=3)\n",
    "\n",
    "# 이어서 학습\n",
    "for epoch in range(10, 20):  # 11~20에포크\n",
    "    print(f\"\\n🚀 Training Model: {backbone_name} \\n\\n\")\n",
    "    model.train()\n",
    "    train_loss = 0.0\n",
    "    for images, labels in tqdm(train_loader, desc=f\"[{backbone_name} Epoch {epoch+1}/Train]\"):\n",
    "        images, labels = images.to(device), labels.to(device)\n",
    "        optimizer.zero_grad()\n",
    "        outputs = model(images)  # logits\n",
    "        loss = criterion(outputs, labels)\n",
    "        loss.backward()\n",
    "        optimizer.step()\n",
    "        train_loss += loss.item()\n",
    "\n",
    "    avg_train_loss = train_loss / len(train_loader)\n",
    "\n",
    "    # 추가 학습 전 검증 수행으로 best_logloss 초기화\n",
    "    model.eval()\n",
    "    val_loss, val_logloss, val_accuracy = validate(model, val_loader, criterion, device)\n",
    "    best_logloss = val_logloss\n",
    "    no_improve = 0\n",
    "    patience = 5  # patience도 정의 필요\n",
    "\n",
    "    # Validation\n",
    "    model.eval()\n",
    "    val_loss = 0.0\n",
    "    correct = 0\n",
    "    total = 0\n",
    "    all_probs = []\n",
    "    all_labels = []\n",
    "\n",
    "    with torch.no_grad():\n",
    "        for images, labels in tqdm(val_loader, desc=f\"[{backbone_name} Epoch {epoch+1}/Val]\"):\n",
    "            images, labels = images.to(device), labels.to(device)\n",
    "            outputs = model(images)\n",
    "            loss = criterion(outputs, labels)\n",
    "            val_loss += loss.item()\n",
    "\n",
    "            # Accuracy\n",
    "            _, preds = torch.max(outputs, 1)\n",
    "            correct += (preds == labels).sum().item()\n",
    "            total += labels.size(0)\n",
    "\n",
    "            # LogLoss\n",
    "            probs = F.softmax(outputs, dim=1)\n",
    "            all_probs.extend(probs.cpu().numpy())\n",
    "            all_labels.extend(labels.cpu().numpy())\n",
    "\n",
    "    avg_val_loss = val_loss / len(val_loader)\n",
    "    val_accuracy = 100 * correct / total\n",
    "    val_logloss = log_loss(all_labels, all_probs, labels=list(range(len(class_names))))\n",
    "\n",
    "    # 결과 출력\n",
    "    print(f\"[{backbone_name}] Epoch {epoch+1} | \"\n",
    "            f\"Train Loss: {avg_train_loss:.4f} | \"\n",
    "            f\"Val Loss: {avg_val_loss:.4f} | \"\n",
    "            f\"Val LogLoss: {val_logloss:.4f} | \"\n",
    "            f\"Valid Accuracy : {val_accuracy:.4f}%\")    \n",
    "    \n",
    "    scheduler.step(val_logloss)\n",
    "\n",
    "    # Best model 저장\n",
    "    \n",
    "    if val_logloss < best_logloss:\n",
    "        best_logloss = val_logloss\n",
    "        no_improve = 0\n",
    "        torch.save(model.state_dict(), f\"best_{backbone_name}_epoch{epoch+1}.pth\")\n",
    "        print(f\"✅ Best model saved (LogLoss: {val_logloss:.4f})\")\n",
    "    else:\n",
    "        no_improve += 1\n",
    "        if no_improve >= patience:\n",
    "            print(f\"🛑 Early stopping at epoch {epoch+1}\")\n",
    "            break\n",
    "\n",
    "del model  # 모델 학습 후 메모리 해제\n",
    "torch.cuda.empty_cache()"
   ]
  },
  {
   "cell_type": "markdown",
   "metadata": {},
   "source": [
    "# Inference and submission"
   ]
  },
  {
   "cell_type": "code",
   "execution_count": 41,
   "metadata": {},
   "outputs": [],
   "source": [
    "test_dataset = CustomImageDataset(test_root, transform=val_transform, is_test=True)\n",
    "test_loader = DataLoader(test_dataset, batch_size=CFG['BATCH_SIZE'], shuffle=False)"
   ]
  },
  {
   "cell_type": "code",
   "execution_count": 44,
   "metadata": {},
   "outputs": [],
   "source": [
    "\n",
    "def normalize_cols(cols):\n",
    "    return [unicodedata.normalize('NFC', col) for col in cols]\n"
   ]
  },
  {
   "cell_type": "code",
   "execution_count": 45,
   "metadata": {},
   "outputs": [
    {
     "name": "stderr",
     "output_type": "stream",
     "text": [
      "/opt/conda/lib/python3.10/site-packages/torchvision/models/_utils.py:208: UserWarning: The parameter 'pretrained' is deprecated since 0.13 and may be removed in the future, please use 'weights' instead.\n",
      "  warnings.warn(\n",
      "/opt/conda/lib/python3.10/site-packages/torchvision/models/_utils.py:223: UserWarning: Arguments other than a weight enum or `None` for 'weights' are deprecated since 0.13 and may be removed in the future. The current behavior is equivalent to passing `weights=ResNet18_Weights.IMAGENET1K_V1`. You can also use `weights=ResNet18_Weights.DEFAULT` to get the most up-to-date weights.\n",
      "  warnings.warn(msg)\n"
     ]
    }
   ],
   "source": [
    "\n",
    "def normalize_cols(cols):\n",
    "    return [unicodedata.normalize('NFC', col) for col in cols]\n",
    "\n",
    "# records = ['best_densenet121_epoch7.pth','best_efficientnet_b3_epoch10.pth',\n",
    "        #    'best_efficientnet_b4_epoch10.pth','best_resnet101_epoch8.pth']\n",
    "records = ['best_resnet18_epoch17.pth']\n",
    "for record in records:\n",
    "    # 저장된 모델 로드\n",
    "    parts = record.split('_')\n",
    "# 올바른 조건문\n",
    "    if record in ['best_resnet18_epoch17.pth', 'best_resnet101_epoch8.pth']:\n",
    "        backbone_name = f\"{parts[1]}\"  # densenet121 등\n",
    "    else:\n",
    "        backbone_name = f\"{parts[1]}_{parts[2]}\"  # efficientnet_b3 등\n",
    "    \n",
    "    model = BaseModel(num_classes=len(class_names), backbone_name=backbone_name)\n",
    "    model.load_state_dict(torch.load(record, map_location=device))\n",
    "    model.to(device)\n",
    "\n",
    "    # 추론\n",
    "    model.eval()\n",
    "    results = []\n",
    "\n",
    "    with torch.no_grad():\n",
    "        for images in test_loader:\n",
    "            images = images.to(device)\n",
    "            outputs = model(images)\n",
    "            probs = F.softmax(outputs, dim=1)\n",
    "\n",
    "            # 각 배치의 확률을 리스트로 변환\n",
    "            for prob in probs.cpu():  # prob: (num_classes,)\n",
    "                result = {\n",
    "                    class_names[i]: prob[i].item()\n",
    "                    for i in range(len(class_names))\n",
    "                }\n",
    "                results.append(result)\n",
    "                \n",
    "    pred = pd.DataFrame(results)\n",
    "\n",
    "    submission = pd.read_csv('../data/sample_submission.csv', encoding='utf-8-sig')\n",
    "\n",
    "    # 'ID' 컬럼을 제외한 클래스 컬럼 정렬\n",
    "    \n",
    "    class_columns = submission.columns[1:]\n",
    "    pred.columns = normalize_cols(pred.columns)\n",
    "    class_columns = normalize_cols(class_columns)\n",
    "    pred = pred[class_columns]\n",
    "\n",
    "    submission[class_columns] = pred.values\n",
    "    submission.to_csv(f'{record}.csv', index=False, encoding='utf-8-sig')"
   ]
  },
  {
   "cell_type": "code",
   "execution_count": 18,
   "metadata": {},
   "outputs": [
    {
     "data": {
      "text/html": [
       "<div>\n",
       "<style scoped>\n",
       "    .dataframe tbody tr th:only-of-type {\n",
       "        vertical-align: middle;\n",
       "    }\n",
       "\n",
       "    .dataframe tbody tr th {\n",
       "        vertical-align: top;\n",
       "    }\n",
       "\n",
       "    .dataframe thead th {\n",
       "        text-align: right;\n",
       "    }\n",
       "</style>\n",
       "<table border=\"1\" class=\"dataframe\">\n",
       "  <thead>\n",
       "    <tr style=\"text-align: right;\">\n",
       "      <th></th>\n",
       "      <th>1시리즈_F20_2013_2015</th>\n",
       "      <th>1시리즈_F20_2016_2019</th>\n",
       "      <th>1시리즈_F40_2020_2024</th>\n",
       "      <th>2008_2015_2017</th>\n",
       "      <th>2시리즈_그란쿠페_F44_2020_2024</th>\n",
       "      <th>2시리즈_액티브_투어러_F45_2019_2021</th>\n",
       "      <th>2시리즈_액티브_투어러_U06_2022_2024</th>\n",
       "      <th>3008_2세대_2018_2023</th>\n",
       "      <th>3시리즈_E90_2005_2012</th>\n",
       "      <th>3시리즈_F30_2013_2018</th>\n",
       "      <th>...</th>\n",
       "      <th>티볼리_에어_2021_2022</th>\n",
       "      <th>파나메라_2010_2016</th>\n",
       "      <th>파나메라_971_2017_2023</th>\n",
       "      <th>파사트_GT_B8_2018_2022</th>\n",
       "      <th>파일럿_3세대_2016_2018</th>\n",
       "      <th>팰리세이드_2019_2022</th>\n",
       "      <th>팰리세이드_LX3_2025</th>\n",
       "      <th>프리우스_4세대_2016_2018</th>\n",
       "      <th>프리우스_4세대_2019_2022</th>\n",
       "      <th>프리우스_C_2018_2020</th>\n",
       "    </tr>\n",
       "  </thead>\n",
       "  <tbody>\n",
       "    <tr>\n",
       "      <th>0</th>\n",
       "      <td>7.511935e-07</td>\n",
       "      <td>1.445385e-06</td>\n",
       "      <td>1.592065e-07</td>\n",
       "      <td>4.357784e-06</td>\n",
       "      <td>3.298061e-07</td>\n",
       "      <td>0.000002</td>\n",
       "      <td>7.070755e-07</td>\n",
       "      <td>7.793965e-07</td>\n",
       "      <td>2.955839e-07</td>\n",
       "      <td>0.000001</td>\n",
       "      <td>...</td>\n",
       "      <td>5.704890e-07</td>\n",
       "      <td>0.000002</td>\n",
       "      <td>8.812796e-07</td>\n",
       "      <td>0.000001</td>\n",
       "      <td>2.839943e-06</td>\n",
       "      <td>0.000003</td>\n",
       "      <td>1.176699e-05</td>\n",
       "      <td>0.000002</td>\n",
       "      <td>0.000012</td>\n",
       "      <td>1.151721e-06</td>\n",
       "    </tr>\n",
       "    <tr>\n",
       "      <th>1</th>\n",
       "      <td>5.752513e-05</td>\n",
       "      <td>9.487465e-05</td>\n",
       "      <td>1.280151e-04</td>\n",
       "      <td>3.506709e-05</td>\n",
       "      <td>3.918644e-05</td>\n",
       "      <td>0.000038</td>\n",
       "      <td>6.326350e-04</td>\n",
       "      <td>7.821716e-05</td>\n",
       "      <td>1.066425e-04</td>\n",
       "      <td>0.000031</td>\n",
       "      <td>...</td>\n",
       "      <td>7.235167e-05</td>\n",
       "      <td>0.000015</td>\n",
       "      <td>1.742213e-05</td>\n",
       "      <td>0.000015</td>\n",
       "      <td>2.497383e-05</td>\n",
       "      <td>0.000106</td>\n",
       "      <td>5.077703e-05</td>\n",
       "      <td>0.000010</td>\n",
       "      <td>0.000041</td>\n",
       "      <td>1.293226e-05</td>\n",
       "    </tr>\n",
       "    <tr>\n",
       "      <th>2</th>\n",
       "      <td>5.629503e-05</td>\n",
       "      <td>1.849107e-05</td>\n",
       "      <td>1.507656e-04</td>\n",
       "      <td>6.678894e-06</td>\n",
       "      <td>6.522421e-05</td>\n",
       "      <td>0.000003</td>\n",
       "      <td>2.378862e-04</td>\n",
       "      <td>1.058777e-05</td>\n",
       "      <td>5.987513e-07</td>\n",
       "      <td>0.000010</td>\n",
       "      <td>...</td>\n",
       "      <td>1.142872e-05</td>\n",
       "      <td>0.000008</td>\n",
       "      <td>1.057245e-04</td>\n",
       "      <td>0.000014</td>\n",
       "      <td>2.381332e-05</td>\n",
       "      <td>0.000005</td>\n",
       "      <td>1.378176e-05</td>\n",
       "      <td>0.000003</td>\n",
       "      <td>0.000029</td>\n",
       "      <td>2.411537e-06</td>\n",
       "    </tr>\n",
       "    <tr>\n",
       "      <th>3</th>\n",
       "      <td>3.519213e-06</td>\n",
       "      <td>1.676211e-07</td>\n",
       "      <td>1.582139e-06</td>\n",
       "      <td>5.283350e-07</td>\n",
       "      <td>2.171661e-06</td>\n",
       "      <td>0.000002</td>\n",
       "      <td>2.027208e-05</td>\n",
       "      <td>3.179571e-06</td>\n",
       "      <td>2.785918e-06</td>\n",
       "      <td>0.000004</td>\n",
       "      <td>...</td>\n",
       "      <td>3.961595e-07</td>\n",
       "      <td>0.000004</td>\n",
       "      <td>3.668167e-05</td>\n",
       "      <td>0.000008</td>\n",
       "      <td>8.549510e-07</td>\n",
       "      <td>0.000019</td>\n",
       "      <td>1.212071e-05</td>\n",
       "      <td>0.000002</td>\n",
       "      <td>0.000006</td>\n",
       "      <td>5.782074e-07</td>\n",
       "    </tr>\n",
       "    <tr>\n",
       "      <th>4</th>\n",
       "      <td>1.922888e-04</td>\n",
       "      <td>5.125251e-03</td>\n",
       "      <td>4.367732e-05</td>\n",
       "      <td>5.357838e-06</td>\n",
       "      <td>1.428535e-05</td>\n",
       "      <td>0.000098</td>\n",
       "      <td>1.358307e-06</td>\n",
       "      <td>1.325173e-06</td>\n",
       "      <td>5.119073e-05</td>\n",
       "      <td>0.000526</td>\n",
       "      <td>...</td>\n",
       "      <td>1.372026e-06</td>\n",
       "      <td>0.000060</td>\n",
       "      <td>1.196302e-06</td>\n",
       "      <td>0.000009</td>\n",
       "      <td>3.170576e-07</td>\n",
       "      <td>0.000004</td>\n",
       "      <td>4.873700e-07</td>\n",
       "      <td>0.000006</td>\n",
       "      <td>0.000002</td>\n",
       "      <td>6.729611e-06</td>\n",
       "    </tr>\n",
       "  </tbody>\n",
       "</table>\n",
       "<p>5 rows × 396 columns</p>\n",
       "</div>"
      ],
      "text/plain": [
       "   1시리즈_F20_2013_2015  1시리즈_F20_2016_2019  1시리즈_F40_2020_2024  \\\n",
       "0           7.511935e-07           1.445385e-06           1.592065e-07   \n",
       "1           5.752513e-05           9.487465e-05           1.280151e-04   \n",
       "2           5.629503e-05           1.849107e-05           1.507656e-04   \n",
       "3           3.519213e-06           1.676211e-07           1.582139e-06   \n",
       "4           1.922888e-04           5.125251e-03           4.367732e-05   \n",
       "\n",
       "   2008_2015_2017  2시리즈_그란쿠페_F44_2020_2024  \\\n",
       "0    4.357784e-06                     3.298061e-07   \n",
       "1    3.506709e-05                     3.918644e-05   \n",
       "2    6.678894e-06                     6.522421e-05   \n",
       "3    5.283350e-07                     2.171661e-06   \n",
       "4    5.357838e-06                     1.428535e-05   \n",
       "\n",
       "   2시리즈_액티브_투어러_F45_2019_2021  2시리즈_액티브_투어러_U06_2022_2024  \\\n",
       "0                              0.000002                          7.070755e-07   \n",
       "1                              0.000038                          6.326350e-04   \n",
       "2                              0.000003                          2.378862e-04   \n",
       "3                              0.000002                          2.027208e-05   \n",
       "4                              0.000098                          1.358307e-06   \n",
       "\n",
       "   3008_2세대_2018_2023  3시리즈_E90_2005_2012  3시리즈_F30_2013_2018  ...  \\\n",
       "0          7.793965e-07           2.955839e-07               0.000001  ...   \n",
       "1          7.821716e-05           1.066425e-04               0.000031  ...   \n",
       "2          1.058777e-05           5.987513e-07               0.000010  ...   \n",
       "3          3.179571e-06           2.785918e-06               0.000004  ...   \n",
       "4          1.325173e-06           5.119073e-05               0.000526  ...   \n",
       "\n",
       "   티볼리_에어_2021_2022  파나메라_2010_2016  파나메라_971_2017_2023  \\\n",
       "0            5.704890e-07            0.000002            8.812796e-07   \n",
       "1            7.235167e-05            0.000015            1.742213e-05   \n",
       "2            1.142872e-05            0.000008            1.057245e-04   \n",
       "3            3.961595e-07            0.000004            3.668167e-05   \n",
       "4            1.372026e-06            0.000060            1.196302e-06   \n",
       "\n",
       "   파사트_GT_B8_2018_2022  파일럿_3세대_2016_2018  팰리세이드_2019_2022  \\\n",
       "0                0.000001              2.839943e-06               0.000003   \n",
       "1                0.000015              2.497383e-05               0.000106   \n",
       "2                0.000014              2.381332e-05               0.000005   \n",
       "3                0.000008              8.549510e-07               0.000019   \n",
       "4                0.000009              3.170576e-07               0.000004   \n",
       "\n",
       "   팰리세이드_LX3_2025  프리우스_4세대_2016_2018  프리우스_4세대_2019_2022  \\\n",
       "0          1.176699e-05                  0.000002                  0.000012   \n",
       "1          5.077703e-05                  0.000010                  0.000041   \n",
       "2          1.378176e-05                  0.000003                  0.000029   \n",
       "3          1.212071e-05                  0.000002                  0.000006   \n",
       "4          4.873700e-07                  0.000006                  0.000002   \n",
       "\n",
       "   프리우스_C_2018_2020  \n",
       "0          1.151721e-06  \n",
       "1          1.293226e-05  \n",
       "2          2.411537e-06  \n",
       "3          5.782074e-07  \n",
       "4          6.729611e-06  \n",
       "\n",
       "[5 rows x 396 columns]"
      ]
     },
     "metadata": {},
     "output_type": "display_data"
    },
    {
     "data": {
      "text/html": [
       "<div>\n",
       "<style scoped>\n",
       "    .dataframe tbody tr th:only-of-type {\n",
       "        vertical-align: middle;\n",
       "    }\n",
       "\n",
       "    .dataframe tbody tr th {\n",
       "        vertical-align: top;\n",
       "    }\n",
       "\n",
       "    .dataframe thead th {\n",
       "        text-align: right;\n",
       "    }\n",
       "</style>\n",
       "<table border=\"1\" class=\"dataframe\">\n",
       "  <thead>\n",
       "    <tr style=\"text-align: right;\">\n",
       "      <th></th>\n",
       "      <th>ID</th>\n",
       "      <th>1시리즈_F20_2013_2015</th>\n",
       "      <th>1시리즈_F20_2016_2019</th>\n",
       "      <th>1시리즈_F40_2020_2024</th>\n",
       "      <th>2008_2015_2017</th>\n",
       "      <th>2시리즈_그란쿠페_F44_2020_2024</th>\n",
       "      <th>2시리즈_액티브_투어러_F45_2019_2021</th>\n",
       "      <th>2시리즈_액티브_투어러_U06_2022_2024</th>\n",
       "      <th>3008_2세대_2018_2023</th>\n",
       "      <th>3시리즈_E90_2005_2012</th>\n",
       "      <th>...</th>\n",
       "      <th>티볼리_에어_2021_2022</th>\n",
       "      <th>파나메라_2010_2016</th>\n",
       "      <th>파나메라_971_2017_2023</th>\n",
       "      <th>파사트_GT_B8_2018_2022</th>\n",
       "      <th>파일럿_3세대_2016_2018</th>\n",
       "      <th>팰리세이드_2019_2022</th>\n",
       "      <th>팰리세이드_LX3_2025</th>\n",
       "      <th>프리우스_4세대_2016_2018</th>\n",
       "      <th>프리우스_4세대_2019_2022</th>\n",
       "      <th>프리우스_C_2018_2020</th>\n",
       "    </tr>\n",
       "  </thead>\n",
       "  <tbody>\n",
       "    <tr>\n",
       "      <th>0</th>\n",
       "      <td>TEST_00000</td>\n",
       "      <td>1</td>\n",
       "      <td>0.0</td>\n",
       "      <td>0.0</td>\n",
       "      <td>0.0</td>\n",
       "      <td>0.0</td>\n",
       "      <td>0.0</td>\n",
       "      <td>0.0</td>\n",
       "      <td>0.0</td>\n",
       "      <td>0.0</td>\n",
       "      <td>...</td>\n",
       "      <td>0.0</td>\n",
       "      <td>0.0</td>\n",
       "      <td>0.0</td>\n",
       "      <td>0.0</td>\n",
       "      <td>0.0</td>\n",
       "      <td>0.0</td>\n",
       "      <td>0.0</td>\n",
       "      <td>0.0</td>\n",
       "      <td>0.0</td>\n",
       "      <td>0.0</td>\n",
       "    </tr>\n",
       "    <tr>\n",
       "      <th>1</th>\n",
       "      <td>TEST_00001</td>\n",
       "      <td>1</td>\n",
       "      <td>0.0</td>\n",
       "      <td>0.0</td>\n",
       "      <td>0.0</td>\n",
       "      <td>0.0</td>\n",
       "      <td>0.0</td>\n",
       "      <td>0.0</td>\n",
       "      <td>0.0</td>\n",
       "      <td>0.0</td>\n",
       "      <td>...</td>\n",
       "      <td>0.0</td>\n",
       "      <td>0.0</td>\n",
       "      <td>0.0</td>\n",
       "      <td>0.0</td>\n",
       "      <td>0.0</td>\n",
       "      <td>0.0</td>\n",
       "      <td>0.0</td>\n",
       "      <td>0.0</td>\n",
       "      <td>0.0</td>\n",
       "      <td>0.0</td>\n",
       "    </tr>\n",
       "    <tr>\n",
       "      <th>2</th>\n",
       "      <td>TEST_00002</td>\n",
       "      <td>1</td>\n",
       "      <td>0.0</td>\n",
       "      <td>0.0</td>\n",
       "      <td>0.0</td>\n",
       "      <td>0.0</td>\n",
       "      <td>0.0</td>\n",
       "      <td>0.0</td>\n",
       "      <td>0.0</td>\n",
       "      <td>0.0</td>\n",
       "      <td>...</td>\n",
       "      <td>0.0</td>\n",
       "      <td>0.0</td>\n",
       "      <td>0.0</td>\n",
       "      <td>0.0</td>\n",
       "      <td>0.0</td>\n",
       "      <td>0.0</td>\n",
       "      <td>0.0</td>\n",
       "      <td>0.0</td>\n",
       "      <td>0.0</td>\n",
       "      <td>0.0</td>\n",
       "    </tr>\n",
       "    <tr>\n",
       "      <th>3</th>\n",
       "      <td>TEST_00003</td>\n",
       "      <td>1</td>\n",
       "      <td>0.0</td>\n",
       "      <td>0.0</td>\n",
       "      <td>0.0</td>\n",
       "      <td>0.0</td>\n",
       "      <td>0.0</td>\n",
       "      <td>0.0</td>\n",
       "      <td>0.0</td>\n",
       "      <td>0.0</td>\n",
       "      <td>...</td>\n",
       "      <td>0.0</td>\n",
       "      <td>0.0</td>\n",
       "      <td>0.0</td>\n",
       "      <td>0.0</td>\n",
       "      <td>0.0</td>\n",
       "      <td>0.0</td>\n",
       "      <td>0.0</td>\n",
       "      <td>0.0</td>\n",
       "      <td>0.0</td>\n",
       "      <td>0.0</td>\n",
       "    </tr>\n",
       "    <tr>\n",
       "      <th>4</th>\n",
       "      <td>TEST_00004</td>\n",
       "      <td>1</td>\n",
       "      <td>0.0</td>\n",
       "      <td>0.0</td>\n",
       "      <td>0.0</td>\n",
       "      <td>0.0</td>\n",
       "      <td>0.0</td>\n",
       "      <td>0.0</td>\n",
       "      <td>0.0</td>\n",
       "      <td>0.0</td>\n",
       "      <td>...</td>\n",
       "      <td>0.0</td>\n",
       "      <td>0.0</td>\n",
       "      <td>0.0</td>\n",
       "      <td>0.0</td>\n",
       "      <td>0.0</td>\n",
       "      <td>0.0</td>\n",
       "      <td>0.0</td>\n",
       "      <td>0.0</td>\n",
       "      <td>0.0</td>\n",
       "      <td>0.0</td>\n",
       "    </tr>\n",
       "  </tbody>\n",
       "</table>\n",
       "<p>5 rows × 397 columns</p>\n",
       "</div>"
      ],
      "text/plain": [
       "           ID  1시리즈_F20_2013_2015  1시리즈_F20_2016_2019  1시리즈_F40_2020_2024  \\\n",
       "0  TEST_00000                   1                 0.0                 0.0   \n",
       "1  TEST_00001                   1                 0.0                 0.0   \n",
       "2  TEST_00002                   1                 0.0                 0.0   \n",
       "3  TEST_00003                   1                 0.0                 0.0   \n",
       "4  TEST_00004                   1                 0.0                 0.0   \n",
       "\n",
       "   2008_2015_2017  2시리즈_그란쿠페_F44_2020_2024  2시리즈_액티브_투어러_F45_2019_2021  \\\n",
       "0             0.0                      0.0                         0.0   \n",
       "1             0.0                      0.0                         0.0   \n",
       "2             0.0                      0.0                         0.0   \n",
       "3             0.0                      0.0                         0.0   \n",
       "4             0.0                      0.0                         0.0   \n",
       "\n",
       "   2시리즈_액티브_투어러_U06_2022_2024  3008_2세대_2018_2023  3시리즈_E90_2005_2012  ...  \\\n",
       "0                         0.0                 0.0                 0.0  ...   \n",
       "1                         0.0                 0.0                 0.0  ...   \n",
       "2                         0.0                 0.0                 0.0  ...   \n",
       "3                         0.0                 0.0                 0.0  ...   \n",
       "4                         0.0                 0.0                 0.0  ...   \n",
       "\n",
       "   티볼리_에어_2021_2022  파나메라_2010_2016  파나메라_971_2017_2023  파사트_GT_B8_2018_2022  \\\n",
       "0               0.0             0.0                 0.0                  0.0   \n",
       "1               0.0             0.0                 0.0                  0.0   \n",
       "2               0.0             0.0                 0.0                  0.0   \n",
       "3               0.0             0.0                 0.0                  0.0   \n",
       "4               0.0             0.0                 0.0                  0.0   \n",
       "\n",
       "   파일럿_3세대_2016_2018  팰리세이드_2019_2022  팰리세이드_LX3_2025  프리우스_4세대_2016_2018  \\\n",
       "0                0.0              0.0             0.0                 0.0   \n",
       "1                0.0              0.0             0.0                 0.0   \n",
       "2                0.0              0.0             0.0                 0.0   \n",
       "3                0.0              0.0             0.0                 0.0   \n",
       "4                0.0              0.0             0.0                 0.0   \n",
       "\n",
       "   프리우스_4세대_2019_2022  프리우스_C_2018_2020  \n",
       "0                 0.0               0.0  \n",
       "1                 0.0               0.0  \n",
       "2                 0.0               0.0  \n",
       "3                 0.0               0.0  \n",
       "4                 0.0               0.0  \n",
       "\n",
       "[5 rows x 397 columns]"
      ]
     },
     "metadata": {},
     "output_type": "display_data"
    }
   ],
   "source": [
    "display(pred.head())\n",
    "display(submission.head())"
   ]
  },
  {
   "cell_type": "markdown",
   "metadata": {},
   "source": [
    "# Submission"
   ]
  },
  {
   "cell_type": "code",
   "execution_count": 15,
   "metadata": {},
   "outputs": [
    {
     "name": "stdout",
     "output_type": "stream",
     "text": [
      "Index(['1시리즈_F20_2013_2015', '1시리즈_F20_2016_2019', '1시리즈_F40_2020_2024',\n",
      "       '2008_2015_2017', '2시리즈_그란쿠페_F44_2020_2024',\n",
      "       '2시리즈_액티브_투어러_F45_2019_2021', '2시리즈_액티브_투어러_U06_2022_2024',\n",
      "       '3008_2세대_2018_2023', '3시리즈_E90_2005_2012', '3시리즈_F30_2013_2018',\n",
      "       ...\n",
      "       '티볼리_에어_2021_2022', '파나메라_2010_2016', '파나메라_971_2017_2023',\n",
      "       '파사트_GT_B8_2018_2022', '파일럿_3세대_2016_2018', '팰리세이드_2019_2022',\n",
      "       '팰리세이드_LX3_2025', '프리우스_4세대_2016_2018', '프리우스_4세대_2019_2022',\n",
      "       '프리우스_C_2018_2020'],\n",
      "      dtype='object', length=396)\n"
     ]
    }
   ],
   "source": [
    "class_columns = submission.columns[1:]\n",
    "\n",
    "print(class_columns)"
   ]
  },
  {
   "cell_type": "code",
   "execution_count": 16,
   "metadata": {},
   "outputs": [
    {
     "name": "stdout",
     "output_type": "stream",
     "text": [
      "Index(['1시리즈_F20_2013_2015', '1시리즈_F20_2016_2019',\n",
      "       '1시리즈_F40_2020_2024', '2008_2015_2017',\n",
      "       '2시리즈_그란쿠페_F44_2020_2024',\n",
      "       '2시리즈_액티브_투어러_F45_2019_2021',\n",
      "       '2시리즈_액티브_투어러_U06_2022_2024', '3008_2세대_2018_2023',\n",
      "       '3시리즈_E90_2005_2012', '3시리즈_F30_2013_2018',\n",
      "       ...\n",
      "       '티볼리_에어_2021_2022', '파나메라_2010_2016',\n",
      "       '파나메라_971_2017_2023', '파사트_GT_B8_2018_2022',\n",
      "       '파일럿_3세대_2016_2018', '팰리세이드_2019_2022',\n",
      "       '팰리세이드_LX3_2025', '프리우스_4세대_2016_2018',\n",
      "       '프리우스_4세대_2019_2022', '프리우스_C_2018_2020'],\n",
      "      dtype='object', length=396)\n",
      "Index(['1시리즈_F20_2013_2015', '1시리즈_F20_2016_2019', '1시리즈_F40_2020_2024',\n",
      "       '2008_2015_2017', '2시리즈_그란쿠페_F44_2020_2024',\n",
      "       '2시리즈_액티브_투어러_F45_2019_2021', '2시리즈_액티브_투어러_U06_2022_2024',\n",
      "       '3008_2세대_2018_2023', '3시리즈_E90_2005_2012', '3시리즈_F30_2013_2018',\n",
      "       ...\n",
      "       '티볼리_에어_2021_2022', '파나메라_2010_2016', '파나메라_971_2017_2023',\n",
      "       '파사트_GT_B8_2018_2022', '파일럿_3세대_2016_2018', '팰리세이드_2019_2022',\n",
      "       '팰리세이드_LX3_2025', '프리우스_4세대_2016_2018', '프리우스_4세대_2019_2022',\n",
      "       '프리우스_C_2018_2020'],\n",
      "      dtype='object', length=396)\n"
     ]
    }
   ],
   "source": [
    "print(pred.columns)\n",
    "print(class_columns)\n"
   ]
  },
  {
   "cell_type": "code",
   "execution_count": 20,
   "metadata": {},
   "outputs": [
    {
     "name": "stdout",
     "output_type": "stream",
     "text": [
      "컬럼명이 완전히 일치합니다!\n"
     ]
    }
   ],
   "source": [
    "if list(pred.columns) == list(class_columns):\n",
    "    print(\"컬럼명이 완전히 일치합니다!\")\n",
    "else:\n",
    "    print(\"컬럼명이 다릅니다!\")\n",
    "    print(\"pred에만 있는 컬럼:\", set(pred.columns) - set(class_columns))\n",
    "    print(\"class_columns에만 있는 컬럼:\", set(class_columns) - set(pred.columns))\n"
   ]
  },
  {
   "cell_type": "code",
   "execution_count": null,
   "metadata": {},
   "outputs": [],
   "source": [
    "import unicodedata\n",
    "\n",
    "def normalize_cols(cols):\n",
    "    return [unicodedata.normalize('NFC', col) for col in cols]\n",
    "\n",
    "pred.columns = normalize_cols(pred.columns)\n",
    "class_columns = normalize_cols(class_columns)\n"
   ]
  },
  {
   "cell_type": "code",
   "execution_count": 21,
   "metadata": {},
   "outputs": [],
   "source": [
    "submission = pd.read_csv('../data/sample_submission.csv', encoding='utf-8-sig')\n",
    "\n",
    "# 'ID' 컬럼을 제외한 클래스 컬럼 정렬\n",
    "\n",
    "pred.columns = normalize_cols(pred.columns)\n",
    "class_columns = normalize_cols(class_columns)\n",
    "class_columns = submission.columns[1:]\n",
    "pred = pred[class_columns]\n",
    "\n",
    "submission[class_columns] = pred.values\n",
    "submission.to_csv('baseline_submission.csv', index=False, encoding='utf-8-sig')"
   ]
  },
  {
   "cell_type": "markdown",
   "metadata": {},
   "source": [
    "# MEtric = LogLoss"
   ]
  },
  {
   "cell_type": "code",
   "execution_count": null,
   "metadata": {},
   "outputs": [],
   "source": [
    "\n",
    "import numpy as np\n",
    "from sklearn.metrics import log_loss\n",
    "import pandas as pd\n",
    "\n",
    "def multiclass_log_loss(answer_df, submission_df):\n",
    "    class_list = sorted(answer_df['label'].unique())\n",
    "    \n",
    "    if submission_df.shape[0] != answer_df.shape[0]:\n",
    "        raise ValueError(\"submission_df 행 개수가 answer_df와 일치하지 않습니다.\")\n",
    "\n",
    "    submission_df = submission_df.sort_values(by='ID').reset_index(drop=True)\n",
    "    answer_df = answer_df.sort_values(by='ID').reset_index(drop=True)\n",
    "\n",
    "    if not all(answer_df['ID'] == submission_df['ID']):\n",
    "        raise ValueError(\"ID가 정렬되지 않았거나 불일치합니다.\")\n",
    "    \n",
    "    missing_cols = [col for col in class_list if col not in submission_df.columns]\n",
    "    if missing_cols:\n",
    "        raise ValueError(f\"클래스 컬럼 누락: {missing_cols}\")\n",
    "    \n",
    "    if submission_df[class_list].isnull().any().any():\n",
    "        raise ValueError(\"NaN 포함됨\")\n",
    "    for col in class_list:\n",
    "        if not ((submission_df[col] >= 0) & (submission_df[col] <= 1)).all():\n",
    "            raise ValueError(f\"{col}의 확률값이 0~1 범위 초과\")\n",
    "\n",
    "    # 정답 인덱스 변환\n",
    "    true_labels = answer_df['label'].tolist()\n",
    "    true_idx = [class_list.index(lbl) for lbl in true_labels]\n",
    "\n",
    "    # 확률 정규화 + clip\n",
    "    probs = submission_df[class_list].values\n",
    "    probs = probs / probs.sum(axis=1, keepdims=True)\n",
    "    y_pred = np.clip(probs, 1e-15, 1 - 1e-15)\n",
    "\n",
    "    return log_loss(true_idx, y_pred, labels=list(range(len(class_list))))\n",
    "\n",
    "# 예시 데이터 (클래스 3개: A, B, C)\n",
    "answer_df = pd.DataFrame({\n",
    "    'ID': [1, 2, 3],\n",
    "    'label': ['A', 'B', 'C']\n",
    "})\n",
    "\n",
    "submission_df = pd.DataFrame({\n",
    "    'ID': [1, 2, 3],\n",
    "    'A': [0.7, 0.1, 0.2],\n",
    "    'B': [0.2, 0.8, 0.3],\n",
    "    'C': [0.1, 0.1, 0.5]\n",
    "})\n",
    "\n",
    "# 함수 실행\n",
    "loss = multiclass_log_loss(answer_df, submission_df)\n",
    "print(f\"Log Loss: {loss:.6f}\") # Log Loss: 0.424322"
   ]
  }
 ],
 "metadata": {
  "kernelspec": {
   "display_name": "base",
   "language": "python",
   "name": "python3"
  },
  "language_info": {
   "codemirror_mode": {
    "name": "ipython",
    "version": 3
   },
   "file_extension": ".py",
   "mimetype": "text/x-python",
   "name": "python",
   "nbconvert_exporter": "python",
   "pygments_lexer": "ipython3",
   "version": "3.10.13"
  }
 },
 "nbformat": 4,
 "nbformat_minor": 2
}
